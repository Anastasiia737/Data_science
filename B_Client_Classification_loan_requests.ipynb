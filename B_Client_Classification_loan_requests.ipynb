{
 "cells": [
  {
   "cell_type": "code",
   "execution_count": 98,
   "metadata": {},
   "outputs": [],
   "source": [
    "import pandas as pd\n",
    "import numpy as np"
   ]
  },
  {
   "cell_type": "code",
   "execution_count": 2,
   "metadata": {},
   "outputs": [
    {
     "name": "stderr",
     "output_type": "stream",
     "text": [
      "C:\\Users\\Stas\\anaconda3\\lib\\site-packages\\IPython\\core\\interactiveshell.py:3063: DtypeWarning: Columns (2,10,26,28,30,47,49,52,54,65,66,67,68,110,114,167,170,173,176,179,185,201,203,205,207,246,292,323,327,434,435) have mixed types.Specify dtype option on import or set low_memory=False.\n",
      "  interactivity=interactivity, compiler=compiler, result=result)\n"
     ]
    }
   ],
   "source": [
    "raw=pd.read_csv(r'C:\\Users\\Stas\\Downloads\\Copy of BASE_BN_CASH_SALE_2CONTACT_20191219.csv', sep='\\t', comment='#')\n"
   ]
  },
  {
   "cell_type": "code",
   "execution_count": 3,
   "metadata": {},
   "outputs": [
    {
     "data": {
      "text/plain": [
       "(115081, 450)"
      ]
     },
     "execution_count": 3,
     "metadata": {},
     "output_type": "execute_result"
    }
   ],
   "source": [
    "raw.shape"
   ]
  },
  {
   "cell_type": "code",
   "execution_count": 4,
   "metadata": {},
   "outputs": [
    {
     "data": {
      "text/html": [
       "<div>\n",
       "<style scoped>\n",
       "    .dataframe tbody tr th:only-of-type {\n",
       "        vertical-align: middle;\n",
       "    }\n",
       "\n",
       "    .dataframe tbody tr th {\n",
       "        vertical-align: top;\n",
       "    }\n",
       "\n",
       "    .dataframe thead th {\n",
       "        text-align: right;\n",
       "    }\n",
       "</style>\n",
       "<table border=\"1\" class=\"dataframe\">\n",
       "  <thead>\n",
       "    <tr style=\"text-align: right;\">\n",
       "      <th></th>\n",
       "      <th>'TYPE_BASE'</th>\n",
       "      <th>'REP_CLID'</th>\n",
       "      <th>'REP_DATE'</th>\n",
       "      <th>'DateCalc'</th>\n",
       "      <th>'Target_30_90d'</th>\n",
       "      <th>'CONTACT_DAY_OF_WEEK'</th>\n",
       "      <th>'CONTACT_HOUR'</th>\n",
       "      <th>'FL_4P'</th>\n",
       "      <th>'P24_DATREG'</th>\n",
       "      <th>'P24_LEDATE'</th>\n",
       "      <th>...</th>\n",
       "      <th>'QTY_CALL_BN_NO_3M'</th>\n",
       "      <th>'QTY_CALL_BN_NO_1M'</th>\n",
       "      <th>'QTY_CALL_BN_ALL_3M'</th>\n",
       "      <th>'QTY_CALL_BN_ALL_1M'</th>\n",
       "      <th>'PRC_CALL_BN_OK_TO_ALL_3M'</th>\n",
       "      <th>'PRC_CALL_BN_OK_TO_ALL_1M'</th>\n",
       "      <th>'QTY_AFTER_CALL_BN_OK_3M'</th>\n",
       "      <th>'QTY_AFTER_CALL_BN_OK_1M'</th>\n",
       "      <th>'QTY_AFTER_CALL_OC_NF_O2_3M'</th>\n",
       "      <th>'QTY_AFTER_CALL_OC_NF_O2_1M'</th>\n",
       "    </tr>\n",
       "  </thead>\n",
       "  <tbody>\n",
       "    <tr>\n",
       "      <th>0</th>\n",
       "      <td>'train'</td>\n",
       "      <td>22181</td>\n",
       "      <td>'2019-01-26'</td>\n",
       "      <td>'2019-01-01'</td>\n",
       "      <td>0.0</td>\n",
       "      <td>7.0</td>\n",
       "      <td>16.0</td>\n",
       "      <td>NaN</td>\n",
       "      <td>NaN</td>\n",
       "      <td>NaN</td>\n",
       "      <td>...</td>\n",
       "      <td>NaN</td>\n",
       "      <td>NaN</td>\n",
       "      <td>NaN</td>\n",
       "      <td>NaN</td>\n",
       "      <td>NaN</td>\n",
       "      <td>NaN</td>\n",
       "      <td>NaN</td>\n",
       "      <td>NaN</td>\n",
       "      <td>NaN</td>\n",
       "      <td>NaN</td>\n",
       "    </tr>\n",
       "    <tr>\n",
       "      <th>1</th>\n",
       "      <td>'train'</td>\n",
       "      <td>22181</td>\n",
       "      <td>NaN</td>\n",
       "      <td>'2019-12-01'</td>\n",
       "      <td>NaN</td>\n",
       "      <td>NaN</td>\n",
       "      <td>NaN</td>\n",
       "      <td>NaN</td>\n",
       "      <td>NaN</td>\n",
       "      <td>NaN</td>\n",
       "      <td>...</td>\n",
       "      <td>NaN</td>\n",
       "      <td>NaN</td>\n",
       "      <td>NaN</td>\n",
       "      <td>NaN</td>\n",
       "      <td>NaN</td>\n",
       "      <td>NaN</td>\n",
       "      <td>NaN</td>\n",
       "      <td>NaN</td>\n",
       "      <td>NaN</td>\n",
       "      <td>NaN</td>\n",
       "    </tr>\n",
       "    <tr>\n",
       "      <th>2</th>\n",
       "      <td>'train'</td>\n",
       "      <td>22182</td>\n",
       "      <td>NaN</td>\n",
       "      <td>'2019-12-01'</td>\n",
       "      <td>NaN</td>\n",
       "      <td>NaN</td>\n",
       "      <td>NaN</td>\n",
       "      <td>'N'</td>\n",
       "      <td>'2011-09-19'</td>\n",
       "      <td>'2019-10-17'</td>\n",
       "      <td>...</td>\n",
       "      <td>NaN</td>\n",
       "      <td>NaN</td>\n",
       "      <td>NaN</td>\n",
       "      <td>NaN</td>\n",
       "      <td>NaN</td>\n",
       "      <td>NaN</td>\n",
       "      <td>NaN</td>\n",
       "      <td>NaN</td>\n",
       "      <td>NaN</td>\n",
       "      <td>NaN</td>\n",
       "    </tr>\n",
       "  </tbody>\n",
       "</table>\n",
       "<p>3 rows × 450 columns</p>\n",
       "</div>"
      ],
      "text/plain": [
       "  'TYPE_BASE'  'REP_CLID'    'REP_DATE'    'DateCalc'  'Target_30_90d'  \\\n",
       "0     'train'       22181  '2019-01-26'  '2019-01-01'              0.0   \n",
       "1     'train'       22181           NaN  '2019-12-01'              NaN   \n",
       "2     'train'       22182           NaN  '2019-12-01'              NaN   \n",
       "\n",
       "   'CONTACT_DAY_OF_WEEK'  'CONTACT_HOUR' 'FL_4P'  'P24_DATREG'  'P24_LEDATE'  \\\n",
       "0                    7.0            16.0     NaN           NaN           NaN   \n",
       "1                    NaN             NaN     NaN           NaN           NaN   \n",
       "2                    NaN             NaN     'N'  '2011-09-19'  '2019-10-17'   \n",
       "\n",
       "   ... 'QTY_CALL_BN_NO_3M' 'QTY_CALL_BN_NO_1M' 'QTY_CALL_BN_ALL_3M'  \\\n",
       "0  ...                 NaN                 NaN                  NaN   \n",
       "1  ...                 NaN                 NaN                  NaN   \n",
       "2  ...                 NaN                 NaN                  NaN   \n",
       "\n",
       "  'QTY_CALL_BN_ALL_1M' 'PRC_CALL_BN_OK_TO_ALL_3M' 'PRC_CALL_BN_OK_TO_ALL_1M'  \\\n",
       "0                  NaN                        NaN                        NaN   \n",
       "1                  NaN                        NaN                        NaN   \n",
       "2                  NaN                        NaN                        NaN   \n",
       "\n",
       "  'QTY_AFTER_CALL_BN_OK_3M' 'QTY_AFTER_CALL_BN_OK_1M'  \\\n",
       "0                       NaN                       NaN   \n",
       "1                       NaN                       NaN   \n",
       "2                       NaN                       NaN   \n",
       "\n",
       "  'QTY_AFTER_CALL_OC_NF_O2_3M' 'QTY_AFTER_CALL_OC_NF_O2_1M'  \n",
       "0                          NaN                          NaN  \n",
       "1                          NaN                          NaN  \n",
       "2                          NaN                          NaN  \n",
       "\n",
       "[3 rows x 450 columns]"
      ]
     },
     "execution_count": 4,
     "metadata": {},
     "output_type": "execute_result"
    }
   ],
   "source": [
    "raw.head(3)"
   ]
  },
  {
   "cell_type": "code",
   "execution_count": 5,
   "metadata": {},
   "outputs": [],
   "source": [
    "# Remove unnecessary symbols\n",
    "raw.columns = raw.columns.str.replace(\"['']\", \"\")\n",
    "raw=raw.replace(',','.', regex=True)\n",
    "raw=raw.replace(\"'\",'', regex=True)"
   ]
  },
  {
   "cell_type": "code",
   "execution_count": 6,
   "metadata": {},
   "outputs": [],
   "source": [
    "# Finding columns, whose strings can be converted to numerical format and converting them:\n",
    "raw=raw.apply(pd.to_numeric, errors='ignore')"
   ]
  },
  {
   "cell_type": "code",
   "execution_count": 7,
   "metadata": {},
   "outputs": [],
   "source": [
    "dates=raw.filter(regex='DATA|DAT|Date').columns"
   ]
  },
  {
   "cell_type": "code",
   "execution_count": 8,
   "metadata": {},
   "outputs": [],
   "source": [
    "#Convirting all dates into datetime format, so that they can be used in calculations:\n",
    "raw[['REP_DATE', 'DateCalc', 'P24_DATREG', 'P24_LEDATE', 'DATE_LAST_PHOTO',\n",
    "       'DATE_FIRST_KDV_CEL', 'DATE_FIRST_KDV_WITHOUT_CEL', 'FIRST_PROD_DATE',\n",
    "       'MIN_DATESTART_ALL_CRCARDS', 'MIN_DATEFIRST_DB_CRCARDS',\n",
    "       'DATE_PENS_DOC']]=raw[['REP_DATE', 'DateCalc', 'P24_DATREG', 'P24_LEDATE', 'DATE_LAST_PHOTO',\n",
    "       'DATE_FIRST_KDV_CEL', 'DATE_FIRST_KDV_WITHOUT_CEL', 'FIRST_PROD_DATE',\n",
    "       'MIN_DATESTART_ALL_CRCARDS', 'MIN_DATEFIRST_DB_CRCARDS',\n",
    "       'DATE_PENS_DOC']].apply(pd.to_datetime)"
   ]
  },
  {
   "cell_type": "code",
   "execution_count": 9,
   "metadata": {},
   "outputs": [],
   "source": [
    "raw=raw.sort_values(by='REP_DATE')\n"
   ]
  },
  {
   "cell_type": "markdown",
   "metadata": {},
   "source": [
    "###### Separating dataframe to train and test sets"
   ]
  },
  {
   "cell_type": "code",
   "execution_count": 10,
   "metadata": {},
   "outputs": [],
   "source": [
    "test=raw.loc[(raw.REP_DATE >='2019-08-01') & (raw.REP_DATE <='2019-08-31')] \n"
   ]
  },
  {
   "cell_type": "code",
   "execution_count": 11,
   "metadata": {},
   "outputs": [
    {
     "data": {
      "text/plain": [
       "(103407, 450)"
      ]
     },
     "execution_count": 11,
     "metadata": {},
     "output_type": "execute_result"
    }
   ],
   "source": [
    "indexNames = raw[ (raw.REP_DATE >='2019-08-01') & (raw.REP_DATE <='2019-08-31') ].index\n",
    "train= raw.drop(indexNames)\n",
    "train.shape"
   ]
  },
  {
   "cell_type": "code",
   "execution_count": 12,
   "metadata": {},
   "outputs": [
    {
     "data": {
      "text/plain": [
       "(11674, 450)"
      ]
     },
     "execution_count": 12,
     "metadata": {},
     "output_type": "execute_result"
    }
   ],
   "source": [
    "test.shape"
   ]
  },
  {
   "cell_type": "markdown",
   "metadata": {},
   "source": [
    "# Data visualization.  Change of client responses distribution depending on month in % "
   ]
  },
  {
   "cell_type": "code",
   "execution_count": 13,
   "metadata": {},
   "outputs": [
    {
     "data": {
      "text/plain": [
       "(43192, 450)"
      ]
     },
     "execution_count": 13,
     "metadata": {},
     "output_type": "execute_result"
    }
   ],
   "source": [
    "#keeping raws, where target value is known\n",
    "train= train[train['Target_30_90d'].notna()]\n",
    "train.shape"
   ]
  },
  {
   "cell_type": "code",
   "execution_count": 14,
   "metadata": {},
   "outputs": [],
   "source": [
    "train.Target_30_90d=train.Target_30_90d.apply(round)"
   ]
  },
  {
   "cell_type": "code",
   "execution_count": 15,
   "metadata": {},
   "outputs": [],
   "source": [
    "#dropping rows with duplicated CLID\n",
    "train.drop_duplicates(['REP_CLID'], keep='last', inplace=True)"
   ]
  },
  {
   "cell_type": "code",
   "execution_count": 16,
   "metadata": {},
   "outputs": [],
   "source": [
    "#Creating response month column for data visualization and analysis:\n",
    "train['REP_MONTH'] = train['REP_DATE'].dt.strftime('%b')"
   ]
  },
  {
   "cell_type": "code",
   "execution_count": 17,
   "metadata": {},
   "outputs": [
    {
     "data": {
      "text/plain": [
       "<seaborn.axisgrid.FacetGrid at 0xe6a26460c8>"
      ]
     },
     "execution_count": 17,
     "metadata": {},
     "output_type": "execute_result"
    },
    {
     "data": {
      "image/png": "[encoded data removed]",
      "text/plain": [
       "<Figure size 440.75x360 with 1 Axes>"
      ]
     },
     "metadata": {
      "needs_background": "light"
     },
     "output_type": "display_data"
    }
   ],
   "source": [
    "import matplotlib.pyplot as plt\n",
    "import seaborn as sns\n",
    "x,y = 'REP_MONTH', 'Target_30_90d'\n",
    "\n",
    "(train\n",
    ".groupby(x)[y]\n",
    ".value_counts(normalize=True)\n",
    ".mul(100)\n",
    ".rename('percent')\n",
    ".reset_index()\n",
    ".pipe((sns.catplot,'data'), x=x,y='percent',hue=y,kind='bar'))"
   ]
  },
  {
   "cell_type": "markdown",
   "metadata": {},
   "source": [
    "Percentage of clients with positive answers about taking a loan does not change drastically along all months. March has the lowest rate of positive answers. July is an outperforming month. "
   ]
  },
  {
   "cell_type": "markdown",
   "metadata": {},
   "source": [
    "# Train data preprocessing "
   ]
  },
  {
   "cell_type": "markdown",
   "metadata": {},
   "source": [
    "# 1. Feature selection"
   ]
  },
  {
   "cell_type": "markdown",
   "metadata": {},
   "source": [
    "## 1.1 Handling missing values"
   ]
  },
  {
   "cell_type": "markdown",
   "metadata": {},
   "source": [
    "#### Defining columns with high % of missing values. Researching them with the purpose o fulfilling or dropping"
   ]
  },
  {
   "cell_type": "code",
   "execution_count": 18,
   "metadata": {},
   "outputs": [
    {
     "data": {
      "text/plain": [
       "77"
      ]
     },
     "execution_count": 18,
     "metadata": {},
     "output_type": "execute_result"
    }
   ],
   "source": [
    "#Defining features, having more than 40% of MV\n",
    "missing=(train.isna().sum()/len(train)).sort_values(ascending=False).to_frame().reset_index()\n",
    "missing.columns.values[1] = \"rate\"\n",
    "missing=missing.loc[missing.rate >0.4]\n",
    "#Number of columns to fulfill or drop:\n",
    "len(missing)"
   ]
  },
  {
   "cell_type": "code",
   "execution_count": 19,
   "metadata": {},
   "outputs": [
    {
     "data": {
      "text/html": [
       "<div>\n",
       "<style scoped>\n",
       "    .dataframe tbody tr th:only-of-type {\n",
       "        vertical-align: middle;\n",
       "    }\n",
       "\n",
       "    .dataframe tbody tr th {\n",
       "        vertical-align: top;\n",
       "    }\n",
       "\n",
       "    .dataframe thead th {\n",
       "        text-align: right;\n",
       "    }\n",
       "</style>\n",
       "<table border=\"1\" class=\"dataframe\">\n",
       "  <thead>\n",
       "    <tr style=\"text-align: right;\">\n",
       "      <th></th>\n",
       "      <th>index</th>\n",
       "      <th>rate</th>\n",
       "    </tr>\n",
       "  </thead>\n",
       "  <tbody>\n",
       "    <tr>\n",
       "      <th>0</th>\n",
       "      <td>RAZN_COUN_REF_UBKI</td>\n",
       "      <td>1.0</td>\n",
       "    </tr>\n",
       "    <tr>\n",
       "      <th>1</th>\n",
       "      <td>P24_WEB_ENTRY_1M</td>\n",
       "      <td>1.0</td>\n",
       "    </tr>\n",
       "    <tr>\n",
       "      <th>2</th>\n",
       "      <td>P24_WEB_ENTRY_QTY</td>\n",
       "      <td>1.0</td>\n",
       "    </tr>\n",
       "    <tr>\n",
       "      <th>3</th>\n",
       "      <td>P24_WEB_ENTRY_6M</td>\n",
       "      <td>1.0</td>\n",
       "    </tr>\n",
       "    <tr>\n",
       "      <th>4</th>\n",
       "      <td>P24_WEB_DAY_6M</td>\n",
       "      <td>1.0</td>\n",
       "    </tr>\n",
       "  </tbody>\n",
       "</table>\n",
       "</div>"
      ],
      "text/plain": [
       "                index  rate\n",
       "0  RAZN_COUN_REF_UBKI   1.0\n",
       "1    P24_WEB_ENTRY_1M   1.0\n",
       "2   P24_WEB_ENTRY_QTY   1.0\n",
       "3    P24_WEB_ENTRY_6M   1.0\n",
       "4      P24_WEB_DAY_6M   1.0"
      ]
     },
     "execution_count": 19,
     "metadata": {},
     "output_type": "execute_result"
    }
   ],
   "source": [
    "# Researching columns with high MV %. Defining, what can be calculated further:\n",
    "missing.head(5)"
   ]
  },
  {
   "cell_type": "markdown",
   "metadata": {},
   "source": [
    "###### What can be calculated as the research shows:"
   ]
  },
  {
   "cell_type": "code",
   "execution_count": 20,
   "metadata": {},
   "outputs": [],
   "source": [
    "# Counting A24-Tenure and days after the recent A24 entry\n",
    "train['P24_WEB_REG']= (train.REP_DATE - train.P24_DATREG).dt.days\n",
    "train['P24_WEB_ENTRY_QTY']=(train.REP_DATE - train.P24_LEDATE).dt.days"
   ]
  },
  {
   "cell_type": "markdown",
   "metadata": {},
   "source": [
    "#### Dropping columns with high percentage of missing values:"
   ]
  },
  {
   "cell_type": "code",
   "execution_count": 21,
   "metadata": {},
   "outputs": [],
   "source": [
    "# We set threshold of MV of 60% \n",
    "selected=train.dropna(axis=1,thresh=0.6*len(train))"
   ]
  },
  {
   "cell_type": "code",
   "execution_count": 22,
   "metadata": {},
   "outputs": [
    {
     "data": {
      "text/html": [
       "<div>\n",
       "<style scoped>\n",
       "    .dataframe tbody tr th:only-of-type {\n",
       "        vertical-align: middle;\n",
       "    }\n",
       "\n",
       "    .dataframe tbody tr th {\n",
       "        vertical-align: top;\n",
       "    }\n",
       "\n",
       "    .dataframe thead th {\n",
       "        text-align: right;\n",
       "    }\n",
       "</style>\n",
       "<table border=\"1\" class=\"dataframe\">\n",
       "  <thead>\n",
       "    <tr style=\"text-align: right;\">\n",
       "      <th></th>\n",
       "      <th>TYPE_BASE</th>\n",
       "      <th>REP_CLID</th>\n",
       "      <th>REP_DATE</th>\n",
       "      <th>DateCalc</th>\n",
       "      <th>Target_30_90d</th>\n",
       "      <th>CONTACT_DAY_OF_WEEK</th>\n",
       "      <th>CONTACT_HOUR</th>\n",
       "      <th>FL_4P</th>\n",
       "      <th>P24_DATREG</th>\n",
       "      <th>P24_LEDATE</th>\n",
       "      <th>...</th>\n",
       "      <th>QTY_CALL_BACK_MONTH</th>\n",
       "      <th>QTY_QUERY_KI_1M_3M_UBKI</th>\n",
       "      <th>QTY_QUERY_KI_1M_6M_UBKI</th>\n",
       "      <th>QTY_QUERY_KI_1M_12M_UBKI</th>\n",
       "      <th>QTY_QUERY_KI_ALL_UBKI</th>\n",
       "      <th>QTY_QUERY_KI_1M_3M_UBKI_TEK</th>\n",
       "      <th>QTY_QUERY_KI_1M_6M_UBKI_TEK</th>\n",
       "      <th>QTY_QUERY_KI_1M_12M_UBKI_TEK</th>\n",
       "      <th>QTY_QUERY_KI_ALL_UBKI_TEK</th>\n",
       "      <th>REP_MONTH</th>\n",
       "    </tr>\n",
       "  </thead>\n",
       "  <tbody>\n",
       "    <tr>\n",
       "      <th>32400</th>\n",
       "      <td>train</td>\n",
       "      <td>34251</td>\n",
       "      <td>2019-01-02</td>\n",
       "      <td>2018-12-01</td>\n",
       "      <td>0</td>\n",
       "      <td>4.0</td>\n",
       "      <td>19.0</td>\n",
       "      <td>N</td>\n",
       "      <td>2016-08-10</td>\n",
       "      <td>2018-10-12</td>\n",
       "      <td>...</td>\n",
       "      <td>0.0</td>\n",
       "      <td>0.0</td>\n",
       "      <td>0.0</td>\n",
       "      <td>0.0</td>\n",
       "      <td>7.0</td>\n",
       "      <td>1.0</td>\n",
       "      <td>2.0</td>\n",
       "      <td>3.0</td>\n",
       "      <td>7.0</td>\n",
       "      <td>Jan</td>\n",
       "    </tr>\n",
       "    <tr>\n",
       "      <th>32274</th>\n",
       "      <td>train</td>\n",
       "      <td>34206</td>\n",
       "      <td>2019-01-02</td>\n",
       "      <td>2018-12-01</td>\n",
       "      <td>0</td>\n",
       "      <td>4.0</td>\n",
       "      <td>19.0</td>\n",
       "      <td>N</td>\n",
       "      <td>2013-10-10</td>\n",
       "      <td>2018-11-09</td>\n",
       "      <td>...</td>\n",
       "      <td>0.0</td>\n",
       "      <td>0.0</td>\n",
       "      <td>0.0</td>\n",
       "      <td>0.0</td>\n",
       "      <td>4.0</td>\n",
       "      <td>0.0</td>\n",
       "      <td>0.0</td>\n",
       "      <td>0.0</td>\n",
       "      <td>4.0</td>\n",
       "      <td>Jan</td>\n",
       "    </tr>\n",
       "  </tbody>\n",
       "</table>\n",
       "<p>2 rows × 375 columns</p>\n",
       "</div>"
      ],
      "text/plain": [
       "      TYPE_BASE  REP_CLID   REP_DATE   DateCalc  Target_30_90d  \\\n",
       "32400     train     34251 2019-01-02 2018-12-01              0   \n",
       "32274     train     34206 2019-01-02 2018-12-01              0   \n",
       "\n",
       "       CONTACT_DAY_OF_WEEK  CONTACT_HOUR FL_4P P24_DATREG P24_LEDATE  ...  \\\n",
       "32400                  4.0          19.0     N 2016-08-10 2018-10-12  ...   \n",
       "32274                  4.0          19.0     N 2013-10-10 2018-11-09  ...   \n",
       "\n",
       "       QTY_CALL_BACK_MONTH QTY_QUERY_KI_1M_3M_UBKI QTY_QUERY_KI_1M_6M_UBKI  \\\n",
       "32400                  0.0                     0.0                     0.0   \n",
       "32274                  0.0                     0.0                     0.0   \n",
       "\n",
       "       QTY_QUERY_KI_1M_12M_UBKI  QTY_QUERY_KI_ALL_UBKI  \\\n",
       "32400                       0.0                    7.0   \n",
       "32274                       0.0                    4.0   \n",
       "\n",
       "       QTY_QUERY_KI_1M_3M_UBKI_TEK  QTY_QUERY_KI_1M_6M_UBKI_TEK  \\\n",
       "32400                          1.0                          2.0   \n",
       "32274                          0.0                          0.0   \n",
       "\n",
       "       QTY_QUERY_KI_1M_12M_UBKI_TEK  QTY_QUERY_KI_ALL_UBKI_TEK  REP_MONTH  \n",
       "32400                           3.0                        7.0        Jan  \n",
       "32274                           0.0                        4.0        Jan  \n",
       "\n",
       "[2 rows x 375 columns]"
      ]
     },
     "execution_count": 22,
     "metadata": {},
     "output_type": "execute_result"
    }
   ],
   "source": [
    "selected.head(2)"
   ]
  },
  {
   "cell_type": "markdown",
   "metadata": {},
   "source": [
    "###### Dropping further, obviously not needed for classification columns"
   ]
  },
  {
   "cell_type": "code",
   "execution_count": 23,
   "metadata": {},
   "outputs": [
    {
     "data": {
      "text/plain": [
       "Index(['REP_DATE', 'DateCalc', 'P24_DATREG', 'P24_LEDATE', 'DATE_LAST_PHOTO',\n",
       "       'FIRST_PROD_DATE', 'MIN_DATESTART_ALL_CRCARDS',\n",
       "       'MIN_DATEFIRST_DB_CRCARDS', 'QTY_M_P24_LEDATE', 'QTY_D_P24_LEDATE'],\n",
       "      dtype='object')"
      ]
     },
     "execution_count": 23,
     "metadata": {},
     "output_type": "execute_result"
    }
   ],
   "source": [
    "\n",
    "dates=selected.filter(regex='DATA|DAT|Date').columns\n",
    "dates"
   ]
  },
  {
   "cell_type": "code",
   "execution_count": 24,
   "metadata": {},
   "outputs": [
    {
     "name": "stderr",
     "output_type": "stream",
     "text": [
      "C:\\Users\\Stas\\anaconda3\\lib\\site-packages\\pandas\\core\\frame.py:3997: SettingWithCopyWarning: \n",
      "A value is trying to be set on a copy of a slice from a DataFrame\n",
      "\n",
      "See the caveats in the documentation: https://pandas.pydata.org/pandas-docs/stable/user_guide/indexing.html#returning-a-view-versus-a-copy\n",
      "  errors=errors,\n"
     ]
    },
    {
     "data": {
      "text/plain": [
       "(35994, 364)"
      ]
     },
     "execution_count": 24,
     "metadata": {},
     "output_type": "execute_result"
    }
   ],
   "source": [
    "selected.drop(['REP_DATE', 'DateCalc', 'P24_DATREG', 'P24_LEDATE', 'DATE_LAST_PHOTO',\n",
    "       'FIRST_PROD_DATE', 'MIN_DATESTART_ALL_CRCARDS', 'QTY_M_P24_LEDATE', 'QTY_D_P24_LEDATE', 'REP_MONTH','MIN_DATEFIRST_DB_CRCARDS'],axis=1, inplace=True)\n",
    "selected.shape"
   ]
  },
  {
   "cell_type": "markdown",
   "metadata": {},
   "source": [
    "## 1.2 Dropping columns that reflect the same things:"
   ]
  },
  {
   "cell_type": "code",
   "execution_count": 25,
   "metadata": {},
   "outputs": [
    {
     "data": {
      "text/plain": [
       "(35994, 341)"
      ]
     },
     "execution_count": 25,
     "metadata": {},
     "output_type": "execute_result"
    }
   ],
   "source": [
    "import numpy as np\n",
    "corr_matrix = selected.corr().abs()\n",
    "upper = corr_matrix.where(np.triu(np.ones(corr_matrix.shape), k=1).astype(np.bool))\n",
    "to_drop = [column for column in upper.columns if any(upper[column]>= 0.95)]\n",
    "selected.drop(to_drop, axis=1, inplace=True)\n",
    "selected.shape"
   ]
  },
  {
   "cell_type": "markdown",
   "metadata": {},
   "source": [
    "# 1.3 Researching the rest columns with MV for fulfilling them"
   ]
  },
  {
   "cell_type": "code",
   "execution_count": 26,
   "metadata": {},
   "outputs": [
    {
     "data": {
      "text/html": [
       "<div>\n",
       "<style scoped>\n",
       "    .dataframe tbody tr th:only-of-type {\n",
       "        vertical-align: middle;\n",
       "    }\n",
       "\n",
       "    .dataframe tbody tr th {\n",
       "        vertical-align: top;\n",
       "    }\n",
       "\n",
       "    .dataframe thead th {\n",
       "        text-align: right;\n",
       "    }\n",
       "</style>\n",
       "<table border=\"1\" class=\"dataframe\">\n",
       "  <thead>\n",
       "    <tr style=\"text-align: right;\">\n",
       "      <th></th>\n",
       "      <th>index</th>\n",
       "      <th>rate</th>\n",
       "    </tr>\n",
       "  </thead>\n",
       "  <tbody>\n",
       "    <tr>\n",
       "      <th>20</th>\n",
       "      <td>CL_CCY_DOP</td>\n",
       "      <td>0.218425</td>\n",
       "    </tr>\n",
       "    <tr>\n",
       "      <th>21</th>\n",
       "      <td>CL_CCY_ZP</td>\n",
       "      <td>0.216203</td>\n",
       "    </tr>\n",
       "    <tr>\n",
       "      <th>22</th>\n",
       "      <td>AVG_AMT_DB_TARG_MONTH</td>\n",
       "      <td>0.210924</td>\n",
       "    </tr>\n",
       "    <tr>\n",
       "      <th>23</th>\n",
       "      <td>CL_EDU</td>\n",
       "      <td>0.208590</td>\n",
       "    </tr>\n",
       "    <tr>\n",
       "      <th>24</th>\n",
       "      <td>REP_LIMIT_CR</td>\n",
       "      <td>0.188781</td>\n",
       "    </tr>\n",
       "    <tr>\n",
       "      <th>25</th>\n",
       "      <td>CL_OFF_POS</td>\n",
       "      <td>0.166278</td>\n",
       "    </tr>\n",
       "    <tr>\n",
       "      <th>26</th>\n",
       "      <td>RAT_DBATM_TO_DBALL_6M</td>\n",
       "      <td>0.157498</td>\n",
       "    </tr>\n",
       "    <tr>\n",
       "      <th>27</th>\n",
       "      <td>RAT_DBOTHER_TO_DBALL_6M</td>\n",
       "      <td>0.157498</td>\n",
       "    </tr>\n",
       "    <tr>\n",
       "      <th>28</th>\n",
       "      <td>RAT_DBSALE_TO_DBALL_6M</td>\n",
       "      <td>0.157360</td>\n",
       "    </tr>\n",
       "    <tr>\n",
       "      <th>29</th>\n",
       "      <td>FL_ADDR_JUR_IS_ADDR_FACT</td>\n",
       "      <td>0.149164</td>\n",
       "    </tr>\n",
       "  </tbody>\n",
       "</table>\n",
       "</div>"
      ],
      "text/plain": [
       "                       index      rate\n",
       "20                CL_CCY_DOP  0.218425\n",
       "21                 CL_CCY_ZP  0.216203\n",
       "22     AVG_AMT_DB_TARG_MONTH  0.210924\n",
       "23                    CL_EDU  0.208590\n",
       "24              REP_LIMIT_CR  0.188781\n",
       "25                CL_OFF_POS  0.166278\n",
       "26     RAT_DBATM_TO_DBALL_6M  0.157498\n",
       "27   RAT_DBOTHER_TO_DBALL_6M  0.157498\n",
       "28    RAT_DBSALE_TO_DBALL_6M  0.157360\n",
       "29  FL_ADDR_JUR_IS_ADDR_FACT  0.149164"
      ]
     },
     "execution_count": 26,
     "metadata": {},
     "output_type": "execute_result"
    }
   ],
   "source": [
    "#Researching features left\n",
    "missing2=(selected.isna().sum()/len(selected)).sort_values(ascending=False).to_frame().reset_index()\n",
    "missing2.columns.values[1] = \"rate\"\n",
    "missing2[20:30]"
   ]
  },
  {
   "cell_type": "code",
   "execution_count": 27,
   "metadata": {},
   "outputs": [
    {
     "name": "stderr",
     "output_type": "stream",
     "text": [
      "C:\\Users\\Stas\\anaconda3\\lib\\site-packages\\pandas\\core\\frame.py:3997: SettingWithCopyWarning: \n",
      "A value is trying to be set on a copy of a slice from a DataFrame\n",
      "\n",
      "See the caveats in the documentation: https://pandas.pydata.org/pandas-docs/stable/user_guide/indexing.html#returning-a-view-versus-a-copy\n",
      "  errors=errors,\n"
     ]
    }
   ],
   "source": [
    "# these ones don't bring any value for classification:\n",
    "selected.drop(['ADDR_ZIP', 'CL_INDUSTR', 'CL_OWN_TYPE', 'REP_CLID','MOB_PHN_OPER','REP_CLID','MOB_PHN_OPER'], axis=1, inplace=True)"
   ]
  },
  {
   "cell_type": "code",
   "execution_count": 28,
   "metadata": {},
   "outputs": [
    {
     "name": "stderr",
     "output_type": "stream",
     "text": [
      "C:\\Users\\Stas\\anaconda3\\lib\\site-packages\\ipykernel_launcher.py:4: SettingWithCopyWarning: \n",
      "A value is trying to be set on a copy of a slice from a DataFrame.\n",
      "Try using .loc[row_indexer,col_indexer] = value instead\n",
      "\n",
      "See the caveats in the documentation: https://pandas.pydata.org/pandas-docs/stable/user_guide/indexing.html#returning-a-view-versus-a-copy\n",
      "  after removing the cwd from sys.path.\n"
     ]
    }
   ],
   "source": [
    "#Fulfilling Nans in numeric columns\n",
    "cols = selected.dtypes.pipe(lambda x: x[x == 'float64']).index\n",
    "for c in cols:\n",
    "    selected[c] = selected[c].fillna(selected[c].mean())"
   ]
  },
  {
   "cell_type": "code",
   "execution_count": 29,
   "metadata": {},
   "outputs": [
    {
     "name": "stderr",
     "output_type": "stream",
     "text": [
      "C:\\Users\\Stas\\anaconda3\\lib\\site-packages\\ipykernel_launcher.py:4: SettingWithCopyWarning: \n",
      "A value is trying to be set on a copy of a slice from a DataFrame.\n",
      "Try using .loc[row_indexer,col_indexer] = value instead\n",
      "\n",
      "See the caveats in the documentation: https://pandas.pydata.org/pandas-docs/stable/user_guide/indexing.html#returning-a-view-versus-a-copy\n",
      "  after removing the cwd from sys.path.\n"
     ]
    }
   ],
   "source": [
    "#Filling MVs in categorical columns with the most frequent value in the column:\n",
    "cols2 = selected.dtypes.pipe(lambda x: x[x == 'object']).index\n",
    "for c in cols2:\n",
    "    selected[c] = selected[c].fillna(selected[c].value_counts().index[0])"
   ]
  },
  {
   "cell_type": "code",
   "execution_count": 30,
   "metadata": {},
   "outputs": [
    {
     "data": {
      "text/plain": [
       "(35994, 336)"
      ]
     },
     "execution_count": 30,
     "metadata": {},
     "output_type": "execute_result"
    }
   ],
   "source": [
    "selected.shape"
   ]
  },
  {
   "cell_type": "markdown",
   "metadata": {},
   "source": [
    "## 1.4 Dropping columns with constant values along all rows"
   ]
  },
  {
   "cell_type": "code",
   "execution_count": 31,
   "metadata": {},
   "outputs": [
    {
     "data": {
      "text/plain": [
       "(35994, 310)"
      ]
     },
     "execution_count": 31,
     "metadata": {},
     "output_type": "execute_result"
    }
   ],
   "source": [
    "selected=selected.loc[:,selected.apply(pd.Series.nunique) != 1]\n",
    "selected.shape"
   ]
  },
  {
   "cell_type": "markdown",
   "metadata": {},
   "source": [
    "## 1.5 Research ourliers in categorical columns. Check if they are absent in test df"
   ]
  },
  {
   "cell_type": "code",
   "execution_count": 32,
   "metadata": {},
   "outputs": [],
   "source": [
    "obj=selected.select_dtypes(include=['object'])\n",
    "obj=obj.loc[:, obj.apply(lambda x: x.nunique()) < 5]"
   ]
  },
  {
   "cell_type": "code",
   "execution_count": 33,
   "metadata": {},
   "outputs": [
    {
     "name": "stdout",
     "output_type": "stream",
     "text": [
      "N    31153\n",
      "Y     4841\n",
      "Name: FL_4P, dtype: int64\n",
      "N    35668\n",
      "Y      326\n",
      "Name: FL_REL_LINK, dtype: int64\n",
      "N    35934\n",
      "Y       60\n",
      "Name: FL_EMPLOYEE, dtype: int64\n",
      "Y    35904\n",
      "N       90\n",
      "Name: FL_ACTIVE, dtype: int64\n",
      "N    35986\n",
      "Y        8\n",
      "Name: FL_SB_ENGINE, dtype: int64\n",
      "N    35975\n",
      "Y       19\n",
      "Name: FL_NO_UA, dtype: int64\n",
      "ГОРОД         28386\n",
      "ПГТ            3828\n",
      "СЕЛО           3780\n",
      "Name: RESIDENCE_CITY_TYPE, dtype: int64\n",
      "N    34731\n",
      "Y     1263\n",
      "Name: FL_DEFAULT_1, dtype: int64\n",
      "N    35746\n",
      "Y      248\n",
      "Name: FL_DEFAULT_2, dtype: int64\n",
      "N    35897\n",
      "Y       97\n",
      "Name: FL_DEFAULT_3, dtype: int64\n",
      "N    35107\n",
      "Y      887\n",
      "Name: FL_FRNG_PASSP_ACTUAL, dtype: int64\n",
      "F    18437\n",
      "M    17557\n",
      "Name: REP_SEX, dtype: int64\n",
      "N    35993\n",
      "Y        1\n",
      "Name: REP_FL_BELIEVE, dtype: int64\n",
      "UA      35993\n",
      "MD          1\n",
      "Name: REP_RES, dtype: int64\n",
      "Y    22443\n",
      "N    13551\n",
      "Name: FL_RASR, dtype: int64\n",
      "Y    35920\n",
      "N       74\n",
      "Name: FL_G_MPH, dtype: int64\n",
      "N    35079\n",
      "Y      915\n",
      "Name: FL_Y_MPH, dtype: int64\n",
      "N    29373\n",
      "Y     6621\n",
      "Name: FL_G_MAIL, dtype: int64\n",
      "N    29385\n",
      "Y     6609\n",
      "Name: FL_Y_MAIL, dtype: int64\n",
      "N    35741\n",
      "Y      253\n",
      "Name: FL_G_PH, dtype: int64\n",
      "N    22648\n",
      "Y    13346\n",
      "Name: FL_Y_PH, dtype: int64\n",
      "N    26961\n",
      "Y     9033\n",
      "Name: CL_AUTO_EX, dtype: int64\n",
      "UAH    35992\n",
      "           2\n",
      "Name: CL_CCY_ZP, dtype: int64\n",
      "UAH    35993\n",
      "RUR        1\n",
      "Name: CL_CCY_DOP, dtype: int64\n",
      "Y    35892\n",
      "N      102\n",
      "Name: CL_PHOTO_1, dtype: int64\n",
      "N    33054\n",
      "Y     2940\n",
      "Name: CL_PHOTO_2, dtype: int64\n",
      "N    29437\n",
      "Y     6557\n",
      "Name: CL_PHOTO_3, dtype: int64\n",
      "N    35957\n",
      "Y       37\n",
      "Name: CL_TRIM, dtype: int64\n",
      "N    35922\n",
      "Y       72\n",
      "Name: CL_RTRIM, dtype: int64\n",
      "N    35562\n",
      "Y      432\n",
      "Name: FL_RASCH, dtype: int64\n",
      "N    26080\n",
      "Y     9914\n",
      "Name: FL_BAL_DEPT_LESS_MINPAY_CURR, dtype: int64\n",
      "N    33755\n",
      "Y     2239\n",
      "Name: FL_DIR_UCH, dtype: int64\n",
      "N    35703\n",
      "Y      291\n",
      "Name: FL_SALARY_AMT_CURR_MONTH, dtype: int64\n",
      "N    30049\n",
      "Y     5945\n",
      "Name: CL_SUPR, dtype: int64\n",
      "N    35975\n",
      "Y       19\n",
      "Name: CL_BLIZ, dtype: int64\n",
      "N    35993\n",
      "Y        1\n",
      "Name: CL_PERS, dtype: int64\n",
      "Y    35961\n",
      "N       33\n",
      "Name: FL_JUR_ADR, dtype: int64\n",
      "Y    34498\n",
      "N     1496\n",
      "Name: FL_PASSP, dtype: int64\n",
      "Y    35860\n",
      "N      134\n",
      "Name: FL_ANKETA_IDENT, dtype: int64\n",
      "N    35513\n",
      "Y      481\n",
      "Name: FL_DOC_PROFIT, dtype: int64\n",
      "N    35962\n",
      "Y       32\n",
      "Name: FL_RLCL, dtype: int64\n",
      "Y    28642\n",
      "N     7352\n",
      "Name: FL_CL_SOC_ST_SING, dtype: int64\n",
      "N    32145\n",
      "Y     3849\n",
      "Name: FO_DEPOS_ALL, dtype: int64\n",
      "N    35986\n",
      "Y        8\n",
      "Name: FL_PENS_DOC, dtype: int64\n",
      "Y    35981\n",
      "N       13\n",
      "Name: FL_PHIN_PH, dtype: int64\n",
      "N    20125\n",
      "Y    15869\n",
      "Name: FL_PRV_HOUSE, dtype: int64\n",
      "N    35818\n",
      "Y      176\n",
      "Name: FL_FRNG_PASSP, dtype: int64\n",
      "N    35988\n",
      "Y        6\n",
      "Name: FL_SEAMAN, dtype: int64\n",
      "Y    35992\n",
      "N        2\n",
      "Name: FL_FORMAT_PH, dtype: int64\n",
      "Y    35953\n",
      "N       41\n",
      "Name: FL_MOTHER_NAME, dtype: int64\n",
      "N    35950\n",
      "Y       44\n",
      "Name: FL_SALE_RENT_INCOME, dtype: int64\n",
      "N    35961\n",
      "Y       33\n",
      "Name: FL_AID, dtype: int64\n",
      "N    34240\n",
      "Y     1754\n",
      "Name: FL_REMITTANCE_3_MONTH, dtype: int64\n"
     ]
    }
   ],
   "source": [
    "for col in obj:\n",
    "    print(obj[col].value_counts())"
   ]
  },
  {
   "cell_type": "code",
   "execution_count": 34,
   "metadata": {},
   "outputs": [
    {
     "data": {
      "text/plain": [
       "UA      11674\n",
       "Name: REP_RES, dtype: int64"
      ]
     },
     "execution_count": 34,
     "metadata": {},
     "output_type": "execute_result"
    }
   ],
   "source": [
    "test.REP_RES.value_counts()"
   ]
  },
  {
   "cell_type": "code",
   "execution_count": 35,
   "metadata": {},
   "outputs": [],
   "source": [
    "selected.drop(['REP_FL_BELIEVE', 'REP_RES', 'FL_SALARY_AMT_CURR_MONTH', 'CL_CCY_ZP', 'CL_CCY_DOP'], axis=1, inplace=True)"
   ]
  },
  {
   "cell_type": "code",
   "execution_count": 36,
   "metadata": {},
   "outputs": [
    {
     "data": {
      "text/plain": [
       "(35994, 305)"
      ]
     },
     "execution_count": 36,
     "metadata": {},
     "output_type": "execute_result"
    }
   ],
   "source": [
    "selected.shape"
   ]
  },
  {
   "cell_type": "markdown",
   "metadata": {},
   "source": [
    "## 1.6 Encoding categorical columns "
   ]
  },
  {
   "cell_type": "markdown",
   "metadata": {},
   "source": [
    "Note: OneHotEncoding on categoricals gives worse model accuracies in our case"
   ]
  },
  {
   "cell_type": "code",
   "execution_count": 37,
   "metadata": {},
   "outputs": [],
   "source": [
    "cols = selected.dtypes.pipe(lambda x: x[x == 'object']).index\n",
    "for c in cols:\n",
    "    selected[c] = pd.factorize(selected[c])[0]"
   ]
  },
  {
   "cell_type": "code",
   "execution_count": 38,
   "metadata": {},
   "outputs": [],
   "source": [
    "train_data=selected"
   ]
  },
  {
   "cell_type": "markdown",
   "metadata": {},
   "source": [
    "# 2. Scaling data and bringing them in form of numpy array"
   ]
  },
  {
   "cell_type": "code",
   "execution_count": 39,
   "metadata": {},
   "outputs": [],
   "source": [
    "from sklearn import preprocessing\n",
    "X_train=train_data.drop('Target_30_90d', axis=1)\n",
    "X_train=preprocessing.StandardScaler().fit(X_train).transform(X_train)\n",
    "y_train=train_data.Target_30_90d.values"
   ]
  },
  {
   "cell_type": "code",
   "execution_count": 40,
   "metadata": {},
   "outputs": [
    {
     "data": {
      "text/plain": [
       "array([0, 0, 0, ..., 0, 0, 0], dtype=int64)"
      ]
     },
     "execution_count": 40,
     "metadata": {},
     "output_type": "execute_result"
    }
   ],
   "source": [
    "y_train"
   ]
  },
  {
   "cell_type": "markdown",
   "metadata": {},
   "source": [
    "## 3 Algorithmic feature selection"
   ]
  },
  {
   "cell_type": "markdown",
   "metadata": {},
   "source": [
    "## 3.1 Feature selection with Kbest"
   ]
  },
  {
   "cell_type": "code",
   "execution_count": 41,
   "metadata": {},
   "outputs": [
    {
     "data": {
      "text/plain": [
       "(35994, 40)"
      ]
     },
     "execution_count": 41,
     "metadata": {},
     "output_type": "execute_result"
    }
   ],
   "source": [
    "import sklearn.feature_selection\n",
    "select=sklearn.feature_selection.SelectKBest(k=40)\n",
    "selectes_feat=select.fit(X_train, y_train)\n",
    "indeces_selected=selectes_feat.get_support(indices=True)\n",
    "kbest_selected_col=[train_data.columns[i] for i in indeces_selected]\n",
    "\n",
    "train_kbest=train_data[train_data.columns[train_data.columns.isin(kbest_selected_col)]]\n",
    "X_train_kbest=preprocessing.StandardScaler().fit(train_kbest).transform(train_kbest)\n",
    "X_train_kbest.shape\n"
   ]
  },
  {
   "cell_type": "markdown",
   "metadata": {},
   "source": [
    "## 3.2 Feature Selection with DecisionTree Classifier"
   ]
  },
  {
   "cell_type": "code",
   "execution_count": 42,
   "metadata": {},
   "outputs": [],
   "source": [
    "from sklearn.tree import DecisionTreeRegressor\n",
    "tree = DecisionTreeRegressor().fit(X_train, y_train)\n"
   ]
  },
  {
   "cell_type": "code",
   "execution_count": 43,
   "metadata": {},
   "outputs": [],
   "source": [
    "data=train_data.drop('Target_30_90d', axis=1)"
   ]
  },
  {
   "cell_type": "code",
   "execution_count": 44,
   "metadata": {},
   "outputs": [],
   "source": [
    "feats = {} \n",
    "for feature, importance in zip(data.columns, tree.feature_importances_):\n",
    "    feats[feature] = importance "
   ]
  },
  {
   "cell_type": "code",
   "execution_count": 45,
   "metadata": {},
   "outputs": [],
   "source": [
    "importances = pd.DataFrame.from_dict(feats, orient='index').rename(columns={0: 'Importance'})"
   ]
  },
  {
   "cell_type": "code",
   "execution_count": 46,
   "metadata": {},
   "outputs": [],
   "source": [
    "importances=importances.sort_values(by='Importance', ascending=False)"
   ]
  },
  {
   "cell_type": "code",
   "execution_count": 47,
   "metadata": {},
   "outputs": [],
   "source": [
    "best_features_dtree=importances.head(40).index.tolist()"
   ]
  },
  {
   "cell_type": "code",
   "execution_count": 96,
   "metadata": {},
   "outputs": [
    {
     "data": {
      "text/plain": [
       "Text(0.5, 1.0, 'Feature Importance')"
      ]
     },
     "execution_count": 96,
     "metadata": {},
     "output_type": "execute_result"
    },
    {
     "data": {
      "image/png": "[encoded data removed]",
      "text/plain": [
       "<Figure size 1440x720 with 1 Axes>"
      ]
     },
     "metadata": {
      "needs_background": "light"
     },
     "output_type": "display_data"
    }
   ],
   "source": [
    "fig, ax = plt.subplots(figsize=(20, 10))\n",
    "importances.head(40).plot(kind='bar', ax=ax)\n",
    "ax.set_title('Feature Importance', fontsize=30)"
   ]
  },
  {
   "cell_type": "code",
   "execution_count": 49,
   "metadata": {},
   "outputs": [],
   "source": [
    "train_dtree=train_data[train_data.columns[train_data.columns.isin(best_features_dtree)]]\n"
   ]
  },
  {
   "cell_type": "code",
   "execution_count": 50,
   "metadata": {},
   "outputs": [],
   "source": [
    "X_train_dtree=preprocessing.StandardScaler().fit(train_dtree).transform(train_dtree)"
   ]
  },
  {
   "cell_type": "code",
   "execution_count": 51,
   "metadata": {},
   "outputs": [
    {
     "data": {
      "text/plain": [
       "(35994, 40)"
      ]
     },
     "execution_count": 51,
     "metadata": {},
     "output_type": "execute_result"
    }
   ],
   "source": [
    "X_train_dtree.shape"
   ]
  },
  {
   "cell_type": "markdown",
   "metadata": {},
   "source": [
    "###### Preparing test set:"
   ]
  },
  {
   "cell_type": "code",
   "execution_count": 52,
   "metadata": {},
   "outputs": [],
   "source": [
    "test_data_Kbest =test[test.columns[test.columns.isin(kbest_selected_col)]]\n",
    "test_data_dtree =test[test.columns[test.columns.isin(best_features_dtree)]]"
   ]
  },
  {
   "cell_type": "code",
   "execution_count": 53,
   "metadata": {},
   "outputs": [
    {
     "data": {
      "text/plain": [
       "(11674, 40)"
      ]
     },
     "execution_count": 53,
     "metadata": {},
     "output_type": "execute_result"
    }
   ],
   "source": [
    "test_data_dtree.shape"
   ]
  },
  {
   "cell_type": "code",
   "execution_count": 54,
   "metadata": {},
   "outputs": [
    {
     "data": {
      "text/plain": [
       "(11674, 40)"
      ]
     },
     "execution_count": 54,
     "metadata": {},
     "output_type": "execute_result"
    }
   ],
   "source": [
    "test_data_Kbest.shape"
   ]
  },
  {
   "cell_type": "code",
   "execution_count": 55,
   "metadata": {},
   "outputs": [
    {
     "name": "stderr",
     "output_type": "stream",
     "text": [
      "C:\\Users\\Stas\\anaconda3\\lib\\site-packages\\ipykernel_launcher.py:1: SettingWithCopyWarning: \n",
      "A value is trying to be set on a copy of a slice from a DataFrame.\n",
      "Try using .loc[row_indexer,col_indexer] = value instead\n",
      "\n",
      "See the caveats in the documentation: https://pandas.pydata.org/pandas-docs/stable/user_guide/indexing.html#returning-a-view-versus-a-copy\n",
      "  \"\"\"Entry point for launching an IPython kernel.\n",
      "C:\\Users\\Stas\\anaconda3\\lib\\site-packages\\ipykernel_launcher.py:2: SettingWithCopyWarning: \n",
      "A value is trying to be set on a copy of a slice from a DataFrame.\n",
      "Try using .loc[row_indexer,col_indexer] = value instead\n",
      "\n",
      "See the caveats in the documentation: https://pandas.pydata.org/pandas-docs/stable/user_guide/indexing.html#returning-a-view-versus-a-copy\n",
      "  \n"
     ]
    }
   ],
   "source": [
    "test_data_Kbest['P24_WEB_ENTRY_QTY']=(test.REP_DATE - test.P24_LEDATE).dt.days\n",
    "test_data_dtree['P24_WEB_ENTRY_QTY']=(test.REP_DATE - test.P24_LEDATE).dt.days"
   ]
  },
  {
   "cell_type": "code",
   "execution_count": 56,
   "metadata": {},
   "outputs": [
    {
     "name": "stderr",
     "output_type": "stream",
     "text": [
      "C:\\Users\\Stas\\anaconda3\\lib\\site-packages\\ipykernel_launcher.py:4: SettingWithCopyWarning: \n",
      "A value is trying to be set on a copy of a slice from a DataFrame.\n",
      "Try using .loc[row_indexer,col_indexer] = value instead\n",
      "\n",
      "See the caveats in the documentation: https://pandas.pydata.org/pandas-docs/stable/user_guide/indexing.html#returning-a-view-versus-a-copy\n",
      "  after removing the cwd from sys.path.\n",
      "C:\\Users\\Stas\\anaconda3\\lib\\site-packages\\ipykernel_launcher.py:7: SettingWithCopyWarning: \n",
      "A value is trying to be set on a copy of a slice from a DataFrame.\n",
      "Try using .loc[row_indexer,col_indexer] = value instead\n",
      "\n",
      "See the caveats in the documentation: https://pandas.pydata.org/pandas-docs/stable/user_guide/indexing.html#returning-a-view-versus-a-copy\n",
      "  import sys\n"
     ]
    }
   ],
   "source": [
    "# fulfilling MV in numerical columns with mea values\n",
    "cols1 = test_data_Kbest.dtypes.pipe(lambda x: x[x == 'float64']).index\n",
    "for c in cols1:\n",
    "    test_data_Kbest[c] = test_data_Kbest[c].fillna(test_data_Kbest[c].mean())\n",
    "cols2 = test_data_dtree.dtypes.pipe(lambda x: x[x == 'float64']).index\n",
    "for c in cols2:\n",
    "    test_data_dtree[c] = test_data_dtree[c].fillna(test_data_dtree[c].mean())"
   ]
  },
  {
   "cell_type": "code",
   "execution_count": 57,
   "metadata": {},
   "outputs": [
    {
     "name": "stderr",
     "output_type": "stream",
     "text": [
      "C:\\Users\\Stas\\anaconda3\\lib\\site-packages\\ipykernel_launcher.py:4: SettingWithCopyWarning: \n",
      "A value is trying to be set on a copy of a slice from a DataFrame.\n",
      "Try using .loc[row_indexer,col_indexer] = value instead\n",
      "\n",
      "See the caveats in the documentation: https://pandas.pydata.org/pandas-docs/stable/user_guide/indexing.html#returning-a-view-versus-a-copy\n",
      "  after removing the cwd from sys.path.\n"
     ]
    }
   ],
   "source": [
    "#fulfill MV in object data\n",
    "cols1 = test_data_Kbest.dtypes.pipe(lambda x: x[x == 'object']).index\n",
    "for c in cols1:\n",
    "    test_data_Kbest[c] = test_data_Kbest[c].fillna(test_data_Kbest[c].value_counts().index[0])\n",
    "cols2 = test_data_dtree.dtypes.pipe(lambda x: x[x == 'object']).index\n",
    "for c in cols2:\n",
    "    test_data_dtree[c] = test_data_dtree[c].fillna(test_data_dtree[c].value_counts().index[0])\n",
    "    \n"
   ]
  },
  {
   "cell_type": "code",
   "execution_count": 58,
   "metadata": {},
   "outputs": [],
   "source": [
    "#Factorizing"
   ]
  },
  {
   "cell_type": "code",
   "execution_count": 59,
   "metadata": {},
   "outputs": [
    {
     "name": "stderr",
     "output_type": "stream",
     "text": [
      "C:\\Users\\Stas\\anaconda3\\lib\\site-packages\\ipykernel_launcher.py:3: SettingWithCopyWarning: \n",
      "A value is trying to be set on a copy of a slice from a DataFrame.\n",
      "Try using .loc[row_indexer,col_indexer] = value instead\n",
      "\n",
      "See the caveats in the documentation: https://pandas.pydata.org/pandas-docs/stable/user_guide/indexing.html#returning-a-view-versus-a-copy\n",
      "  This is separate from the ipykernel package so we can avoid doing imports until\n"
     ]
    }
   ],
   "source": [
    "cols1 = test_data_Kbest.dtypes.pipe(lambda x: x[x == 'object']).index\n",
    "for c in cols1:\n",
    "    test_data_Kbest[c] = pd.factorize(test_data_Kbest[c])[0]\n",
    "cols2 = test_data_dtree.dtypes.pipe(lambda x: x[x == 'object']).index\n",
    "for c in cols2:\n",
    "    test_data_dtree[c] = pd.factorize(test_data_dtree[c])[0]"
   ]
  },
  {
   "cell_type": "code",
   "execution_count": 60,
   "metadata": {},
   "outputs": [],
   "source": [
    "\n",
    "X_test_dtree=preprocessing.StandardScaler().fit(test_data_dtree).transform(test_data_dtree)\n",
    "X_test_Kbest=preprocessing.StandardScaler().fit(test_data_Kbest).transform(test_data_Kbest)\n",
    "y_test= test.Target_30_90d.values"
   ]
  },
  {
   "cell_type": "code",
   "execution_count": 61,
   "metadata": {},
   "outputs": [
    {
     "name": "stdout",
     "output_type": "stream",
     "text": [
      "(11674, 40)\n",
      "(11674, 40)\n"
     ]
    }
   ],
   "source": [
    "print(X_test_dtree.shape)\n",
    "print(X_test_Kbest.shape)"
   ]
  },
  {
   "cell_type": "code",
   "execution_count": 62,
   "metadata": {},
   "outputs": [
    {
     "data": {
      "text/plain": [
       "(11674,)"
      ]
     },
     "execution_count": 62,
     "metadata": {},
     "output_type": "execute_result"
    }
   ],
   "source": [
    "y_test.shape"
   ]
  },
  {
   "cell_type": "markdown",
   "metadata": {},
   "source": [
    "# Building Models"
   ]
  },
  {
   "cell_type": "markdown",
   "metadata": {},
   "source": [
    "### 1. Logistic Regression"
   ]
  },
  {
   "cell_type": "code",
   "execution_count": 63,
   "metadata": {},
   "outputs": [],
   "source": [
    "from sklearn.linear_model import LogisticRegression\n",
    "logreg = LogisticRegression(C=0.01,solver='liblinear')"
   ]
  },
  {
   "cell_type": "code",
   "execution_count": 64,
   "metadata": {},
   "outputs": [],
   "source": [
    "Kbestlr=logreg.fit(X_train_kbest,y_train)\n",
    "Dtreelr=logreg.fit(X_train_dtree,y_train)"
   ]
  },
  {
   "cell_type": "code",
   "execution_count": 65,
   "metadata": {},
   "outputs": [],
   "source": [
    "y_pred_lr_Kbest = Kbestlr.predict(X_test_Kbest)\n",
    "y_pred_lr_Dtree = Dtreelr.predict(X_test_dtree)"
   ]
  },
  {
   "cell_type": "code",
   "execution_count": 66,
   "metadata": {},
   "outputs": [],
   "source": [
    "from sklearn.metrics import accuracy_score, f1_score, roc_auc_score, precision_score"
   ]
  },
  {
   "cell_type": "code",
   "execution_count": 67,
   "metadata": {},
   "outputs": [
    {
     "name": "stdout",
     "output_type": "stream",
     "text": [
      "accuracy_score with Kbest selector is: 0.8740791502484153\n",
      "accuracy_score with decision tree classifier is: 0.874935754668494\n"
     ]
    }
   ],
   "source": [
    "print ('accuracy_score with Kbest selector is:',accuracy_score(y_test,y_pred_lr_Kbest) )\n",
    "print ('accuracy_score with decision tree classifier is:',accuracy_score(y_test,y_pred_lr_Dtree ))"
   ]
  },
  {
   "cell_type": "markdown",
   "metadata": {},
   "source": [
    "So further we will use features, selected by dec tree classifier"
   ]
  },
  {
   "cell_type": "code",
   "execution_count": 68,
   "metadata": {},
   "outputs": [],
   "source": [
    "X_train=X_train_dtree\n",
    "X_test= X_test_dtree"
   ]
  },
  {
   "cell_type": "code",
   "execution_count": 69,
   "metadata": {},
   "outputs": [
    {
     "data": {
      "text/plain": [
       "0.874935754668494"
      ]
     },
     "execution_count": 69,
     "metadata": {},
     "output_type": "execute_result"
    }
   ],
   "source": [
    "logreg=logreg.fit(X_train, y_train)\n",
    "y_pred_lr = logreg.predict(X_test)\n",
    "accuracy_score(y_test,y_pred_lr)"
   ]
  },
  {
   "cell_type": "markdown",
   "metadata": {},
   "source": [
    "###### Finding model parameters "
   ]
  },
  {
   "cell_type": "code",
   "execution_count": 70,
   "metadata": {},
   "outputs": [],
   "source": [
    "from sklearn.model_selection import GridSearchCV"
   ]
  },
  {
   "cell_type": "code",
   "execution_count": 71,
   "metadata": {},
   "outputs": [],
   "source": [
    "grid = {'penalty': ['l1','l2'], 'C': [0.001,0.01,0.1,1,10,100,1000]}"
   ]
  },
  {
   "cell_type": "code",
   "execution_count": 72,
   "metadata": {},
   "outputs": [
    {
     "name": "stdout",
     "output_type": "stream",
     "text": [
      "{'C': 0.1, 'penalty': 'l2'}\n",
      "Wall time: 46.2 s\n"
     ]
    }
   ],
   "source": [
    "%%time\n",
    "CV_lr = GridSearchCV(logreg, param_grid = grid, scoring = 'recall')\n",
    "CV_lr.fit(X_train, y_train)\n",
    "print (CV_lr.best_params_)"
   ]
  },
  {
   "cell_type": "code",
   "execution_count": 73,
   "metadata": {},
   "outputs": [
    {
     "data": {
      "text/plain": [
       "0.8751070755525099"
      ]
     },
     "execution_count": 73,
     "metadata": {},
     "output_type": "execute_result"
    }
   ],
   "source": [
    "logreg2= LogisticRegression(C=0.001,solver='liblinear', penalty = 'l2')\n",
    "logreg_best=logreg2.fit(X_train, y_train)\n",
    "y_pred_lr_best = logreg_best.predict(X_test)\n",
    "accuracy_score(y_test,y_pred_lr_best)"
   ]
  },
  {
   "cell_type": "markdown",
   "metadata": {},
   "source": [
    "## Random Forest"
   ]
  },
  {
   "cell_type": "code",
   "execution_count": 74,
   "metadata": {},
   "outputs": [],
   "source": [
    "from sklearn.ensemble import RandomForestClassifier\n",
    "rf = RandomForestClassifier(random_state = 0)\n",
    "rf.fit(X_train, y_train)\n",
    "y_pred_rf=rf.predict(X_test)"
   ]
  },
  {
   "cell_type": "code",
   "execution_count": 75,
   "metadata": {},
   "outputs": [
    {
     "data": {
      "text/plain": [
       "0.8781908514647936"
      ]
     },
     "execution_count": 75,
     "metadata": {},
     "output_type": "execute_result"
    }
   ],
   "source": [
    "accuracy_score(y_test,y_pred_rf)"
   ]
  },
  {
   "cell_type": "markdown",
   "metadata": {},
   "source": [
    "###### Tuning model parameters "
   ]
  },
  {
   "cell_type": "code",
   "execution_count": 76,
   "metadata": {},
   "outputs": [
    {
     "name": "stdout",
     "output_type": "stream",
     "text": [
      "{'bootstrap': True, 'ccp_alpha': 0.0, 'class_weight': None, 'criterion': 'gini', 'max_depth': None, 'max_features': 'auto', 'max_leaf_nodes': None, 'max_samples': None, 'min_impurity_decrease': 0.0, 'min_impurity_split': None, 'min_samples_leaf': 1, 'min_samples_split': 2, 'min_weight_fraction_leaf': 0.0, 'n_estimators': 100, 'n_jobs': None, 'oob_score': False, 'random_state': 0, 'verbose': 0, 'warm_start': False}\n"
     ]
    }
   ],
   "source": [
    "print(rf.get_params())"
   ]
  },
  {
   "cell_type": "code",
   "execution_count": 77,
   "metadata": {},
   "outputs": [
    {
     "name": "stdout",
     "output_type": "stream",
     "text": [
      "{'max_depth': 25, 'max_features': 'log2', 'n_estimators': 700}\n",
      "Wall time: 2h 13min 20s\n"
     ]
    }
   ],
   "source": [
    "%%time\n",
    "param_grid = { \n",
    "'n_estimators': [200,300,400,500,700],\n",
    "'max_features': ['auto', 'sqrt', 'log2'],\n",
    "'max_depth': [5, 8, 15, 25, 30],\n",
    "}\n",
    "\n",
    "CV_rfc = GridSearchCV(estimator=rf, param_grid=param_grid, n_jobs=4, cv= 5)\n",
    "CV_rfc.fit(X_train, y_train)\n",
    "print (CV_rfc.best_params_) "
   ]
  },
  {
   "cell_type": "code",
   "execution_count": 78,
   "metadata": {},
   "outputs": [],
   "source": [
    "rf_best = RandomForestClassifier(max_features='log2', n_estimators=700, max_depth=5)\n",
    "rf_best.fit(X_train, y_train)\n",
    "y_pred_rf_best=rf_best.predict(X_test)"
   ]
  },
  {
   "cell_type": "code",
   "execution_count": 79,
   "metadata": {},
   "outputs": [
    {
     "data": {
      "text/plain": [
       "0.8759636799725886"
      ]
     },
     "execution_count": 79,
     "metadata": {},
     "output_type": "execute_result"
    }
   ],
   "source": [
    "accuracy_score(y_test,y_pred_rf_best)"
   ]
  },
  {
   "cell_type": "code",
   "execution_count": 80,
   "metadata": {},
   "outputs": [
    {
     "data": {
      "text/plain": [
       "0.8781908514647936"
      ]
     },
     "execution_count": 80,
     "metadata": {},
     "output_type": "execute_result"
    }
   ],
   "source": [
    "accuracy_score(y_test,y_pred_rf)"
   ]
  },
  {
   "cell_type": "markdown",
   "metadata": {},
   "source": [
    "## SVM"
   ]
  },
  {
   "cell_type": "code",
   "execution_count": 81,
   "metadata": {},
   "outputs": [
    {
     "data": {
      "text/plain": [
       "SVC(C=1.0, break_ties=False, cache_size=200, class_weight=None, coef0=0.0,\n",
       "    decision_function_shape='ovr', degree=3, gamma='scale', kernel='rbf',\n",
       "    max_iter=-1, probability=True, random_state=None, shrinking=True, tol=0.001,\n",
       "    verbose=False)"
      ]
     },
     "execution_count": 81,
     "metadata": {},
     "output_type": "execute_result"
    }
   ],
   "source": [
    "from sklearn import svm\n",
    "\n",
    "svmmodel = svm.SVC(kernel='rbf', probability=True)\n",
    "svmmodel.fit(X_train, y_train) "
   ]
  },
  {
   "cell_type": "code",
   "execution_count": 82,
   "metadata": {},
   "outputs": [
    {
     "data": {
      "text/plain": [
       "0.8763063217406202"
      ]
     },
     "execution_count": 82,
     "metadata": {},
     "output_type": "execute_result"
    }
   ],
   "source": [
    "y_pred_svm=svmmodel.predict(X_test)\n",
    "accuracy_score(y_test,y_pred_svm)"
   ]
  },
  {
   "cell_type": "code",
   "execution_count": 97,
   "metadata": {},
   "outputs": [],
   "source": [
    "#Grid search\n",
    "# svmmodel=svm.SVC()\n",
    "# parameters = [{'kernel': ['rbf'], 'gamma': [1e-3, 1e-4],\n",
    "#                 'C': [1, 10, 100, 1000]},\n",
    "#               {'kernel': ['linear'], 'C': [1, 10, 100, 1000]}]\n",
    "\n",
    "# CV_svm= GridSearchCV(svmmodel, parameters)\n",
    "# CV_svm.fit(X_train, y_train)\n",
    "# print (CV_rfc.best_params_)"
   ]
  },
  {
   "cell_type": "markdown",
   "metadata": {},
   "source": [
    "###### KNN"
   ]
  },
  {
   "cell_type": "code",
   "execution_count": 83,
   "metadata": {},
   "outputs": [
    {
     "data": {
      "text/plain": [
       "array([0.82508138, 0.8711667 , 0.86439952, 0.87476443, 0.871595  ,\n",
       "       0.87579236, 0.87416481, 0.87587802, 0.87502142])"
      ]
     },
     "execution_count": 83,
     "metadata": {},
     "output_type": "execute_result"
    }
   ],
   "source": [
    "from sklearn.neighbors import KNeighborsClassifier\n",
    "\n",
    "Ks = 10\n",
    "mean_acc = np.zeros((Ks-1))\n",
    "std_acc = np.zeros((Ks-1))\n",
    "ConfustionMtx=[];\n",
    "for n in range(1,Ks):\n",
    "    neigh = KNeighborsClassifier(n_neighbors=n).fit(X_train, y_train)\n",
    "    ypred = neigh.predict(X_test)\n",
    "    mean_acc[n-1] =accuracy_score(y_test, ypred)\n",
    "    std_acc[n-1] = np.std(ypred==y_test)/np.sqrt(ypred.shape[0])\n",
    "mean_acc"
   ]
  },
  {
   "cell_type": "markdown",
   "metadata": {},
   "source": [
    "###### Finding best model parameters "
   ]
  },
  {
   "cell_type": "code",
   "execution_count": 84,
   "metadata": {},
   "outputs": [
    {
     "data": {
      "image/png": "[encoded data removed]",
      "text/plain": [
       "<Figure size 432x288 with 1 Axes>"
      ]
     },
     "metadata": {
      "needs_background": "light"
     },
     "output_type": "display_data"
    },
    {
     "name": "stdout",
     "output_type": "stream",
     "text": [
      "The best accuracy was with 0.8758780195305808 with k= 8\n"
     ]
    }
   ],
   "source": [
    "plt.plot(range(1,Ks),mean_acc)\n",
    "plt.fill_between(range(1,Ks),mean_acc - 1 * std_acc,mean_acc + 1 * std_acc, alpha=0.10)\n",
    "plt.legend(('Accuracy ', '+/- 3xstd'))\n",
    "plt.ylabel('Accuracy ')\n",
    "plt.xlabel('Number of Neighbors (K)')\n",
    "plt.tight_layout()\n",
    "plt.show()\n",
    "\n",
    "print( \"The best accuracy was with\", mean_acc.max(), \"with k=\", mean_acc.argmax()+1) \n",
    "\n",
    "neigh = KNeighborsClassifier(n_neighbors=mean_acc.argmax()+1).fit(X_train, y_train)"
   ]
  },
  {
   "cell_type": "code",
   "execution_count": 85,
   "metadata": {},
   "outputs": [],
   "source": [
    "kneigh = KNeighborsClassifier(n_neighbors=8).fit(X_train, y_train)"
   ]
  },
  {
   "cell_type": "code",
   "execution_count": 86,
   "metadata": {},
   "outputs": [],
   "source": [
    "y_pred_knn=kneigh.predict(X_test)"
   ]
  },
  {
   "cell_type": "code",
   "execution_count": 87,
   "metadata": {},
   "outputs": [
    {
     "name": "stdout",
     "output_type": "stream",
     "text": [
      "Accuracy Score of knn: 0.8758780195305808\n"
     ]
    }
   ],
   "source": [
    "print ('Accuracy Score of knn:',accuracy_score(y_test, y_pred_knn) )"
   ]
  },
  {
   "cell_type": "markdown",
   "metadata": {},
   "source": [
    "###### Summary of grid search for the models listed:"
   ]
  },
  {
   "cell_type": "markdown",
   "metadata": {},
   "source": [
    "Grid parameters give worse accuracy in the Random Forest model and result in a slight improvement in the logistic regression model."
   ]
  },
  {
   "cell_type": "markdown",
   "metadata": {},
   "source": [
    "#  Comparative evaluation of the models"
   ]
  },
  {
   "cell_type": "code",
   "execution_count": 103,
   "metadata": {},
   "outputs": [],
   "source": [
    "as1=accuracy_score(y_test, y_pred_lr_best)\n",
    "fs1=f1_score(y_test, y_pred_lr_best, average='weighted')  \n",
    "ps1=precision_score(y_test, y_pred_lr_best)\n",
    "\n",
    "as2=accuracy_score(y_test, y_pred_rf)\n",
    "fs2=f1_score(y_test, y_pred_rf, average='weighted')  \n",
    "ps2=precision_score(y_test, y_pred_rf)\n",
    "\n",
    "as3=accuracy_score(y_test, y_pred_svm)\n",
    "fs3=f1_score(y_test, y_pred_svm, average='weighted')  \n",
    "ps3=precision_score(y_test, y_pred_svm)\n",
    "\n",
    "as4=accuracy_score(y_test, y_pred_knn)\n",
    "fs4=f1_score(y_test, y_pred_knn, average='weighted')  \n",
    "ps4=precision_score(y_test, y_pred_knn)\n",
    "\n",
    "list_as = [as1, as2, as3, as4]\n",
    "list_fs = [fs1, fs2, fs3, fs4]\n",
    "list_ps = [ps1, ps2, ps3, ps4]"
   ]
  },
  {
   "cell_type": "code",
   "execution_count": 104,
   "metadata": {},
   "outputs": [
    {
     "data": {
      "text/html": [
       "<div>\n",
       "<style scoped>\n",
       "    .dataframe tbody tr th:only-of-type {\n",
       "        vertical-align: middle;\n",
       "    }\n",
       "\n",
       "    .dataframe tbody tr th {\n",
       "        vertical-align: top;\n",
       "    }\n",
       "\n",
       "    .dataframe thead th {\n",
       "        text-align: right;\n",
       "    }\n",
       "</style>\n",
       "<table border=\"1\" class=\"dataframe\">\n",
       "  <thead>\n",
       "    <tr style=\"text-align: right;\">\n",
       "      <th>Algorithm</th>\n",
       "      <th>Accuracy score</th>\n",
       "      <th>F1-score</th>\n",
       "      <th>Precision score</th>\n",
       "    </tr>\n",
       "  </thead>\n",
       "  <tbody>\n",
       "    <tr>\n",
       "      <th>Logistic Regression</th>\n",
       "      <td>0.875107</td>\n",
       "      <td>0.823703</td>\n",
       "      <td>0.465909</td>\n",
       "    </tr>\n",
       "    <tr>\n",
       "      <th>Random Forest</th>\n",
       "      <td>0.878191</td>\n",
       "      <td>0.826597</td>\n",
       "      <td>0.720588</td>\n",
       "    </tr>\n",
       "    <tr>\n",
       "      <th>SVM</th>\n",
       "      <td>0.876306</td>\n",
       "      <td>0.819867</td>\n",
       "      <td>0.750000</td>\n",
       "    </tr>\n",
       "    <tr>\n",
       "      <th>KNN</th>\n",
       "      <td>0.875878</td>\n",
       "      <td>0.821076</td>\n",
       "      <td>0.538462</td>\n",
       "    </tr>\n",
       "  </tbody>\n",
       "</table>\n",
       "</div>"
      ],
      "text/plain": [
       "Algorithm            Accuracy score  F1-score  Precision score\n",
       "Logistic Regression        0.875107  0.823703         0.465909\n",
       "Random Forest              0.878191  0.826597         0.720588\n",
       "SVM                        0.876306  0.819867         0.750000\n",
       "KNN                        0.875878  0.821076         0.538462"
      ]
     },
     "execution_count": 104,
     "metadata": {},
     "output_type": "execute_result"
    }
   ],
   "source": [
    "results = pd.DataFrame(list_as, index=['Logistic Regression', 'Random Forest', 'SVM', 'KNN'])\n",
    "results.columns = ['Accuracy score']\n",
    "results.insert(loc=1, column='F1-score', value=list_fs)\n",
    "results.insert(loc=2, column='Precision score', value=list_ps)\n",
    "results.columns.name = 'Algorithm'\n",
    "results"
   ]
  },
  {
   "cell_type": "code",
   "execution_count": 91,
   "metadata": {},
   "outputs": [],
   "source": [
    "from sklearn.metrics import roc_curve"
   ]
  },
  {
   "cell_type": "markdown",
   "metadata": {},
   "source": [
    "##### ROC curve Logistic Regression"
   ]
  },
  {
   "cell_type": "code",
   "execution_count": 105,
   "metadata": {},
   "outputs": [
    {
     "name": "stdout",
     "output_type": "stream",
     "text": [
      "No Skill: ROC AUC=0.500\n",
      "Logistic: ROC AUC=0.671\n"
     ]
    },
    {
     "data": {
      "image/png": "[encoded data removed]",
      "text/plain": [
       "<Figure size 432x288 with 1 Axes>"
      ]
     },
     "metadata": {
      "needs_background": "light"
     },
     "output_type": "display_data"
    }
   ],
   "source": [
    "ns_probs = [0 for _ in range(len(y_test))]\n",
    "lr_probs = logreg2.predict_proba(X_test)\n",
    "lr_probs = lr_probs[:, 1]\n",
    "ns_auc = roc_auc_score(y_test, ns_probs)\n",
    "lr_auc = roc_auc_score(y_test, lr_probs)\n",
    "print('No Skill: ROC AUC=%.3f' % (ns_auc))\n",
    "print('Logistic: ROC AUC=%.3f' % (lr_auc))\n",
    "ns_fpr, ns_tpr, _ = roc_curve(y_test, ns_probs)\n",
    "lr_fpr, lr_tpr, _ = roc_curve(y_test, lr_probs)\n",
    "plt.plot(ns_fpr, ns_tpr, linestyle='--', label='No Skill')\n",
    "plt.plot(lr_fpr, lr_tpr, marker='.', label='Logistic')\n",
    "plt.xlabel('False Positive Rate')\n",
    "plt.ylabel('True Positive Rate')\n",
    "plt.legend()\n",
    "plt.show()"
   ]
  },
  {
   "cell_type": "markdown",
   "metadata": {},
   "source": [
    "##### ROC curve Random Forest"
   ]
  },
  {
   "cell_type": "code",
   "execution_count": 93,
   "metadata": {},
   "outputs": [
    {
     "name": "stdout",
     "output_type": "stream",
     "text": [
      "No Skill: ROC AUC=0.500\n",
      "Random Forest: ROC AUC=0.661\n"
     ]
    },
    {
     "data": {
      "image/png": "[encoded data removed]",
      "text/plain": [
       "<Figure size 432x288 with 1 Axes>"
      ]
     },
     "metadata": {
      "needs_background": "light"
     },
     "output_type": "display_data"
    }
   ],
   "source": [
    "ns_probs = [0 for _ in range(len(y_test))]\n",
    "rf_probs = rf.predict_proba(X_test)\n",
    "rf_probs = rf_probs[:, 1]\n",
    "ns_auc = roc_auc_score(y_test, ns_probs)\n",
    "rf_auc = roc_auc_score(y_test, rf_probs)\n",
    "print('No Skill: ROC AUC=%.3f' % (ns_auc))\n",
    "print('Random Forest: ROC AUC=%.3f' % (rf_auc))\n",
    "ns_fpr, ns_tpr, _ = roc_curve(y_test, ns_probs)\n",
    "rf_fpr, rf_tpr, _ = roc_curve(y_test, rf_probs)\n",
    "plt.plot(ns_fpr, ns_tpr, linestyle='--', label='No Skill')\n",
    "plt.plot(rf_fpr, rf_tpr, marker='.', label='RF')\n",
    "plt.xlabel('False Positive Rate')\n",
    "plt.ylabel('True Positive Rate')\n",
    "plt.legend()\n",
    "plt.show()"
   ]
  },
  {
   "cell_type": "markdown",
   "metadata": {},
   "source": [
    "##### ROC curve SVM"
   ]
  },
  {
   "cell_type": "code",
   "execution_count": 94,
   "metadata": {},
   "outputs": [
    {
     "name": "stdout",
     "output_type": "stream",
     "text": [
      "No Skill: ROC AUC=0.500\n",
      "SVM: ROC AUC=0.604\n"
     ]
    },
    {
     "data": {
      "image/png": "[encoded data removed]",
      "text/plain": [
       "<Figure size 432x288 with 1 Axes>"
      ]
     },
     "metadata": {
      "needs_background": "light"
     },
     "output_type": "display_data"
    }
   ],
   "source": [
    "ns_probs = [0 for _ in range(len(y_test))]\n",
    "svm_probs = svmmodel.predict_proba(X_test)\n",
    "svm_probs = svm_probs[:, 1]\n",
    "ns_auc = roc_auc_score(y_test, ns_probs)\n",
    "svm_auc = roc_auc_score(y_test, svm_probs)\n",
    "print('No Skill: ROC AUC=%.3f' % (ns_auc))\n",
    "print('SVM: ROC AUC=%.3f' % (svm_auc))\n",
    "ns_fpr, ns_tpr, _ = roc_curve(y_test, ns_probs)\n",
    "svm_fpr, svm_tpr, _ = roc_curve(y_test, svm_probs)\n",
    "plt.plot(ns_fpr, ns_tpr, linestyle='--', label='No Skill')\n",
    "plt.plot(svm_fpr, svm_tpr, marker='.', label='SVM')\n",
    "plt.xlabel('False Positive Rate')\n",
    "plt.ylabel('True Positive Rate')\n",
    "plt.legend()\n",
    "plt.show()"
   ]
  },
  {
   "cell_type": "markdown",
   "metadata": {},
   "source": [
    "###### ROC curve KNN"
   ]
  },
  {
   "cell_type": "code",
   "execution_count": 95,
   "metadata": {},
   "outputs": [
    {
     "name": "stdout",
     "output_type": "stream",
     "text": [
      "No Skill: ROC AUC=0.500\n",
      "KNN: ROC AUC=0.591\n"
     ]
    },
    {
     "data": {
      "image/png": "[encoded data removed]",
      "text/plain": [
       "<Figure size 432x288 with 1 Axes>"
      ]
     },
     "metadata": {
      "needs_background": "light"
     },
     "output_type": "display_data"
    }
   ],
   "source": [
    "ns_probs = [0 for _ in range(len(y_test))]\n",
    "knn_probs = kneigh.predict_proba(X_test)\n",
    "knn_probs = knn_probs[:, 1]\n",
    "ns_auc = roc_auc_score(y_test, ns_probs)\n",
    "knn_auc = roc_auc_score(y_test, knn_probs)\n",
    "print('No Skill: ROC AUC=%.3f' % (ns_auc))\n",
    "print('KNN: ROC AUC=%.3f' % (knn_auc))\n",
    "ns_fpr, ns_tpr, _ = roc_curve(y_test, ns_probs)\n",
    "knn_fpr, knn_tpr, _ = roc_curve(y_test, knn_probs)\n",
    "plt.plot(ns_fpr, ns_tpr, linestyle='--', label='No Skill')\n",
    "plt.plot(knn_fpr, knn_tpr, marker='.', label='KNN')\n",
    "plt.xlabel('False Positive Rate')\n",
    "plt.ylabel('True Positive Rate')\n",
    "plt.legend()\n",
    "plt.show()"
   ]
  },
  {
   "cell_type": "markdown",
   "metadata": {},
   "source": [
    "# Итог "
   ]
  },
  {
   "cell_type": "markdown",
   "metadata": {},
   "source": [
    "Лучший результат достигается использованием алгоритма Random Forest. "
   ]
  },
  {
   "cell_type": "markdown",
   "metadata": {},
   "source": [
    "###### Также было проверено действие следующих шагов на улучшение качества классификации:"
   ]
  },
  {
   "cell_type": "markdown",
   "metadata": {},
   "source": [
    "* удаление из выборки out- и underperforming месяцев по заявкам на кредит (март и июль)\n",
    "* удаление outliers числовых данных\n",
    "* использование get_dummies для кодирования категорийных данных. \n",
    "* увеличение и снижение допустимого процента NaN значений при фильтрации признаков. 60% - оптимальный критерий при удалении признаков. "
   ]
  },
  {
   "cell_type": "markdown",
   "metadata": {},
   "source": [
    "**Вышеперечисленные аспекты подготовки данных приводят к ухудшению работы алгоритмов классификации**"
   ]
  },
  {
   "cell_type": "code",
   "execution_count": null,
   "metadata": {},
   "outputs": [],
   "source": []
  }
 ],
 "metadata": {
  "kernelspec": {
   "display_name": "Python 3",
   "language": "python",
   "name": "python3"
  },
  "language_info": {
   "codemirror_mode": {
    "name": "ipython",
    "version": 3
   },
   "file_extension": ".py",
   "mimetype": "text/x-python",
   "name": "python",
   "nbconvert_exporter": "python",
   "pygments_lexer": "ipython3",
   "version": "3.7.6"
  }
 },
 "nbformat": 4,
 "nbformat_minor": 4
}
