{
 "cells": [
  {
   "cell_type": "code",
   "execution_count": 3,
   "metadata": {},
   "outputs": [],
   "source": [
    "import pandas as pd\n",
    "import numpy as np\n",
    "from sklearn.feature_extraction.text import CountVectorizer\n",
    "from sklearn.metrics.pairwise import cosine_similarity"
   ]
  },
  {
   "cell_type": "code",
   "execution_count": 4,
   "metadata": {},
   "outputs": [
    {
     "data": {
      "text/html": [
       "<div>\n",
       "<style scoped>\n",
       "    .dataframe tbody tr th:only-of-type {\n",
       "        vertical-align: middle;\n",
       "    }\n",
       "\n",
       "    .dataframe tbody tr th {\n",
       "        vertical-align: top;\n",
       "    }\n",
       "\n",
       "    .dataframe thead th {\n",
       "        text-align: right;\n",
       "    }\n",
       "</style>\n",
       "<table border=\"1\" class=\"dataframe\">\n",
       "  <thead>\n",
       "    <tr style=\"text-align: right;\">\n",
       "      <th></th>\n",
       "      <th>id</th>\n",
       "      <th>brand</th>\n",
       "      <th>category</th>\n",
       "      <th>name</th>\n",
       "      <th>size</th>\n",
       "      <th>rating</th>\n",
       "      <th>number_of_reviews</th>\n",
       "      <th>love</th>\n",
       "      <th>price</th>\n",
       "      <th>value_price</th>\n",
       "      <th>...</th>\n",
       "      <th>MarketingFlags</th>\n",
       "      <th>MarketingFlags_content</th>\n",
       "      <th>options</th>\n",
       "      <th>details</th>\n",
       "      <th>how_to_use</th>\n",
       "      <th>ingredients</th>\n",
       "      <th>online_only</th>\n",
       "      <th>exclusive</th>\n",
       "      <th>limited_edition</th>\n",
       "      <th>limited_time_offer</th>\n",
       "    </tr>\n",
       "  </thead>\n",
       "  <tbody>\n",
       "    <tr>\n",
       "      <th>0</th>\n",
       "      <td>2218774</td>\n",
       "      <td>Acqua Di Parma</td>\n",
       "      <td>Fragrance</td>\n",
       "      <td>Blu Mediterraneo MINIATURE Set</td>\n",
       "      <td>5 x 0.16oz/5mL</td>\n",
       "      <td>4.0</td>\n",
       "      <td>4</td>\n",
       "      <td>3002</td>\n",
       "      <td>66.0</td>\n",
       "      <td>75.0</td>\n",
       "      <td>...</td>\n",
       "      <td>True</td>\n",
       "      <td>online only</td>\n",
       "      <td>no options</td>\n",
       "      <td>This enchanting set comes in a specially handc...</td>\n",
       "      <td>Suggested Usage:-Fragrance is intensified by t...</td>\n",
       "      <td>Arancia di Capri Eau de Toilette: Alcohol Dena...</td>\n",
       "      <td>1</td>\n",
       "      <td>0</td>\n",
       "      <td>0</td>\n",
       "      <td>0</td>\n",
       "    </tr>\n",
       "    <tr>\n",
       "      <th>1</th>\n",
       "      <td>2044816</td>\n",
       "      <td>Acqua Di Parma</td>\n",
       "      <td>Cologne</td>\n",
       "      <td>Colonia</td>\n",
       "      <td>0.7 oz/ 20 mL</td>\n",
       "      <td>4.5</td>\n",
       "      <td>76</td>\n",
       "      <td>2700</td>\n",
       "      <td>66.0</td>\n",
       "      <td>66.0</td>\n",
       "      <td>...</td>\n",
       "      <td>True</td>\n",
       "      <td>online only</td>\n",
       "      <td>- 0.7 oz/ 20 mL  Spray  - 1.7 oz/ 50 mL Eau d...</td>\n",
       "      <td>An elegant timeless scent filled with a fresh-...</td>\n",
       "      <td>no instructions</td>\n",
       "      <td>unknown</td>\n",
       "      <td>1</td>\n",
       "      <td>0</td>\n",
       "      <td>0</td>\n",
       "      <td>0</td>\n",
       "    </tr>\n",
       "    <tr>\n",
       "      <th>2</th>\n",
       "      <td>1417567</td>\n",
       "      <td>Acqua Di Parma</td>\n",
       "      <td>Perfume</td>\n",
       "      <td>Arancia di Capri</td>\n",
       "      <td>5 oz/ 148 mL</td>\n",
       "      <td>4.5</td>\n",
       "      <td>26</td>\n",
       "      <td>2600</td>\n",
       "      <td>180.0</td>\n",
       "      <td>180.0</td>\n",
       "      <td>...</td>\n",
       "      <td>True</td>\n",
       "      <td>online only</td>\n",
       "      <td>- 1oz/30mL Eau de Toilette  - 2.5 oz/ 74 mL E...</td>\n",
       "      <td>Fragrance Family: Fresh Scent Type: Fresh Citr...</td>\n",
       "      <td>no instructions</td>\n",
       "      <td>Alcohol Denat.- Water- Fragrance- Limonene- Li...</td>\n",
       "      <td>1</td>\n",
       "      <td>0</td>\n",
       "      <td>0</td>\n",
       "      <td>0</td>\n",
       "    </tr>\n",
       "  </tbody>\n",
       "</table>\n",
       "<p>3 rows × 21 columns</p>\n",
       "</div>"
      ],
      "text/plain": [
       "        id           brand   category                            name  \\\n",
       "0  2218774  Acqua Di Parma  Fragrance  Blu Mediterraneo MINIATURE Set   \n",
       "1  2044816  Acqua Di Parma    Cologne                         Colonia   \n",
       "2  1417567  Acqua Di Parma    Perfume                Arancia di Capri   \n",
       "\n",
       "             size  rating  number_of_reviews  love  price  value_price  ...  \\\n",
       "0  5 x 0.16oz/5mL     4.0                  4  3002   66.0         75.0  ...   \n",
       "1   0.7 oz/ 20 mL     4.5                 76  2700   66.0         66.0  ...   \n",
       "2    5 oz/ 148 mL     4.5                 26  2600  180.0        180.0  ...   \n",
       "\n",
       "  MarketingFlags  MarketingFlags_content  \\\n",
       "0           True             online only   \n",
       "1           True             online only   \n",
       "2           True             online only   \n",
       "\n",
       "                                             options  \\\n",
       "0                                         no options   \n",
       "1   - 0.7 oz/ 20 mL  Spray  - 1.7 oz/ 50 mL Eau d...   \n",
       "2   - 1oz/30mL Eau de Toilette  - 2.5 oz/ 74 mL E...   \n",
       "\n",
       "                                             details  \\\n",
       "0  This enchanting set comes in a specially handc...   \n",
       "1  An elegant timeless scent filled with a fresh-...   \n",
       "2  Fragrance Family: Fresh Scent Type: Fresh Citr...   \n",
       "\n",
       "                                          how_to_use  \\\n",
       "0  Suggested Usage:-Fragrance is intensified by t...   \n",
       "1                                    no instructions   \n",
       "2                                    no instructions   \n",
       "\n",
       "                                         ingredients online_only  exclusive  \\\n",
       "0  Arancia di Capri Eau de Toilette: Alcohol Dena...           1          0   \n",
       "1                                            unknown           1          0   \n",
       "2  Alcohol Denat.- Water- Fragrance- Limonene- Li...           1          0   \n",
       "\n",
       "   limited_edition  limited_time_offer  \n",
       "0                0                   0  \n",
       "1                0                   0  \n",
       "2                0                   0  \n",
       "\n",
       "[3 rows x 21 columns]"
      ]
     },
     "execution_count": 4,
     "metadata": {},
     "output_type": "execute_result"
    }
   ],
   "source": [
    "sephora_df=pd.read_csv(r\"D:\\Gorian\\Data science basics\\Portfolio\\sephora_website_dataset.csv\",low_memory=False)\n",
    "sephora_df.head(3)"
   ]
  },
  {
   "cell_type": "markdown",
   "metadata": {},
   "source": [
    "###### Selecting features"
   ]
  },
  {
   "cell_type": "code",
   "execution_count": 5,
   "metadata": {},
   "outputs": [
    {
     "data": {
      "text/plain": [
       "Index(['id', 'brand', 'category', 'name', 'size', 'rating',\n",
       "       'number_of_reviews', 'love', 'price', 'value_price', 'URL',\n",
       "       'MarketingFlags', 'MarketingFlags_content', 'options', 'details',\n",
       "       'how_to_use', 'ingredients', 'online_only', 'exclusive',\n",
       "       'limited_edition', 'limited_time_offer'],\n",
       "      dtype='object')"
      ]
     },
     "execution_count": 5,
     "metadata": {},
     "output_type": "execute_result"
    }
   ],
   "source": [
    "sephora_df.columns"
   ]
  },
  {
   "cell_type": "code",
   "execution_count": 6,
   "metadata": {},
   "outputs": [],
   "source": [
    "features=sephora_df[['brand', 'category', 'name']]"
   ]
  },
  {
   "cell_type": "code",
   "execution_count": 7,
   "metadata": {},
   "outputs": [],
   "source": [
    "def combine_features(row):\n",
    "    return row['brand'] + ' ' + row['category'] + ' ' + row['name']"
   ]
  },
  {
   "cell_type": "code",
   "execution_count": 8,
   "metadata": {},
   "outputs": [
    {
     "name": "stderr",
     "output_type": "stream",
     "text": [
      "C:\\Users\\Stas\\anaconda3\\lib\\site-packages\\ipykernel_launcher.py:1: SettingWithCopyWarning: \n",
      "A value is trying to be set on a copy of a slice from a DataFrame.\n",
      "Try using .loc[row_indexer,col_indexer] = value instead\n",
      "\n",
      "See the caveats in the documentation: https://pandas.pydata.org/pandas-docs/stable/user_guide/indexing.html#returning-a-view-versus-a-copy\n",
      "  \"\"\"Entry point for launching an IPython kernel.\n"
     ]
    }
   ],
   "source": [
    "features['combined_features'] = features.apply(combine_features, axis=1)"
   ]
  },
  {
   "cell_type": "code",
   "execution_count": 9,
   "metadata": {},
   "outputs": [],
   "source": [
    "features=features[['name','combined_features']]"
   ]
  },
  {
   "cell_type": "code",
   "execution_count": 51,
   "metadata": {},
   "outputs": [
    {
     "data": {
      "text/html": [
       "<div>\n",
       "<style scoped>\n",
       "    .dataframe tbody tr th:only-of-type {\n",
       "        vertical-align: middle;\n",
       "    }\n",
       "\n",
       "    .dataframe tbody tr th {\n",
       "        vertical-align: top;\n",
       "    }\n",
       "\n",
       "    .dataframe thead th {\n",
       "        text-align: right;\n",
       "    }\n",
       "</style>\n",
       "<table border=\"1\" class=\"dataframe\">\n",
       "  <thead>\n",
       "    <tr style=\"text-align: right;\">\n",
       "      <th></th>\n",
       "      <th>name</th>\n",
       "      <th>combined_features</th>\n",
       "    </tr>\n",
       "    <tr>\n",
       "      <th>name</th>\n",
       "      <th></th>\n",
       "      <th></th>\n",
       "    </tr>\n",
       "  </thead>\n",
       "  <tbody>\n",
       "    <tr>\n",
       "      <th>Blu Mediterraneo MINIATURE Set</th>\n",
       "      <td>Blu Mediterraneo MINIATURE Set</td>\n",
       "      <td>Acqua Di Parma Fragrance Blu Mediterraneo MINI...</td>\n",
       "    </tr>\n",
       "    <tr>\n",
       "      <th>Colonia</th>\n",
       "      <td>Colonia</td>\n",
       "      <td>Acqua Di Parma Cologne Colonia</td>\n",
       "    </tr>\n",
       "    <tr>\n",
       "      <th>Arancia di Capri</th>\n",
       "      <td>Arancia di Capri</td>\n",
       "      <td>Acqua Di Parma Perfume Arancia di Capri</td>\n",
       "    </tr>\n",
       "    <tr>\n",
       "      <th>Mirto di Panarea</th>\n",
       "      <td>Mirto di Panarea</td>\n",
       "      <td>Acqua Di Parma Perfume Mirto di Panarea</td>\n",
       "    </tr>\n",
       "    <tr>\n",
       "      <th>Colonia Miniature Set</th>\n",
       "      <td>Colonia Miniature Set</td>\n",
       "      <td>Acqua Di Parma Fragrance Colonia Miniature Set</td>\n",
       "    </tr>\n",
       "    <tr>\n",
       "      <th>...</th>\n",
       "      <td>...</td>\n",
       "      <td>...</td>\n",
       "    </tr>\n",
       "    <tr>\n",
       "      <th>The Rose Gold Mask</th>\n",
       "      <td>The Rose Gold Mask</td>\n",
       "      <td>SEPHORA COLLECTION Face Masks The Rose Gold Mask</td>\n",
       "    </tr>\n",
       "    <tr>\n",
       "      <th>Give Me Some Sugar Colorful Gloss Balm Set</th>\n",
       "      <td>Give Me Some Sugar Colorful Gloss Balm Set</td>\n",
       "      <td>SEPHORA COLLECTION Lip Sets Give Me Some Sugar...</td>\n",
       "    </tr>\n",
       "    <tr>\n",
       "      <th>Weekend Warrior Tone Up Cream</th>\n",
       "      <td>Weekend Warrior Tone Up Cream</td>\n",
       "      <td>SEPHORA COLLECTION Tinted Moisturizer Weekend ...</td>\n",
       "    </tr>\n",
       "    <tr>\n",
       "      <th>Gift Card</th>\n",
       "      <td>Gift Card</td>\n",
       "      <td>SEPHORA COLLECTION no category Gift Card</td>\n",
       "    </tr>\n",
       "    <tr>\n",
       "      <th>Happy Birthday Gift Card</th>\n",
       "      <td>Happy Birthday Gift Card</td>\n",
       "      <td>SEPHORA COLLECTION no category Happy Birthday ...</td>\n",
       "    </tr>\n",
       "  </tbody>\n",
       "</table>\n",
       "<p>9168 rows × 2 columns</p>\n",
       "</div>"
      ],
      "text/plain": [
       "                                                                                  name  \\\n",
       "name                                                                                     \n",
       "Blu Mediterraneo MINIATURE Set                          Blu Mediterraneo MINIATURE Set   \n",
       "Colonia                                                                        Colonia   \n",
       "Arancia di Capri                                                      Arancia di Capri   \n",
       "Mirto di Panarea                                                      Mirto di Panarea   \n",
       "Colonia Miniature Set                                            Colonia Miniature Set   \n",
       "...                                                                                ...   \n",
       "The Rose Gold Mask                                                  The Rose Gold Mask   \n",
       "Give Me Some Sugar Colorful Gloss Balm Set  Give Me Some Sugar Colorful Gloss Balm Set   \n",
       "Weekend Warrior Tone Up Cream                            Weekend Warrior Tone Up Cream   \n",
       "Gift Card                                                                    Gift Card   \n",
       "Happy Birthday Gift Card                                      Happy Birthday Gift Card   \n",
       "\n",
       "                                                                            combined_features  \n",
       "name                                                                                           \n",
       "Blu Mediterraneo MINIATURE Set              Acqua Di Parma Fragrance Blu Mediterraneo MINI...  \n",
       "Colonia                                                        Acqua Di Parma Cologne Colonia  \n",
       "Arancia di Capri                                      Acqua Di Parma Perfume Arancia di Capri  \n",
       "Mirto di Panarea                                      Acqua Di Parma Perfume Mirto di Panarea  \n",
       "Colonia Miniature Set                          Acqua Di Parma Fragrance Colonia Miniature Set  \n",
       "...                                                                                       ...  \n",
       "The Rose Gold Mask                           SEPHORA COLLECTION Face Masks The Rose Gold Mask  \n",
       "Give Me Some Sugar Colorful Gloss Balm Set  SEPHORA COLLECTION Lip Sets Give Me Some Sugar...  \n",
       "Weekend Warrior Tone Up Cream               SEPHORA COLLECTION Tinted Moisturizer Weekend ...  \n",
       "Gift Card                                            SEPHORA COLLECTION no category Gift Card  \n",
       "Happy Birthday Gift Card                    SEPHORA COLLECTION no category Happy Birthday ...  \n",
       "\n",
       "[9168 rows x 2 columns]"
      ]
     },
     "execution_count": 51,
     "metadata": {},
     "output_type": "execute_result"
    }
   ],
   "source": [
    "features"
   ]
  },
  {
   "cell_type": "code",
   "execution_count": 36,
   "metadata": {},
   "outputs": [],
   "source": [
    "#\n",
    "features.index = features['name']"
   ]
  },
  {
   "cell_type": "code",
   "execution_count": 49,
   "metadata": {},
   "outputs": [
    {
     "data": {
      "text/plain": [
       "Index(['Blu Mediterraneo MINIATURE Set', 'Colonia', 'Arancia di Capri',\n",
       "       'Mirto di Panarea', 'Colonia Miniature Set', 'Fico di Amalfi',\n",
       "       'Rosa Nobile', 'Colonia Essenza', 'Peonia Nobile Hair Mist',\n",
       "       'Rosa Nobile Hair Mist',\n",
       "       ...\n",
       "       'The Sculptor - Airbrush Sponge',\n",
       "       'Moisturizing Body Milk - Beach Vibes',\n",
       "       'Fizzing Bath Star Mini - Surprise Flowers',\n",
       "       'Face the Day: Full Face Brush Set',\n",
       "       'Exfoliating Body Granita Scrub - Surprise Flowers',\n",
       "       'The Rose Gold Mask', 'Give Me Some Sugar Colorful Gloss Balm Set',\n",
       "       'Weekend Warrior Tone Up Cream', 'Gift Card',\n",
       "       'Happy Birthday Gift Card'],\n",
       "      dtype='object', name='name', length=9168)"
      ]
     },
     "execution_count": 49,
     "metadata": {},
     "output_type": "execute_result"
    }
   ],
   "source": [
    "features.index"
   ]
  },
  {
   "cell_type": "markdown",
   "metadata": {},
   "source": [
    "###### Modeling"
   ]
  },
  {
   "cell_type": "code",
   "execution_count": 41,
   "metadata": {},
   "outputs": [],
   "source": [
    "count = CountVectorizer()\n",
    "count_matrix = count.fit_transform(features['combined_features'])\n",
    "\n",
    "# generating the cosine similarity matrix\n",
    "cosine_sim = cosine_similarity(count_matrix, count_matrix)"
   ]
  },
  {
   "cell_type": "code",
   "execution_count": 42,
   "metadata": {},
   "outputs": [
    {
     "data": {
      "text/plain": [
       "array([[1.        , 0.47434165, 0.47140452, ..., 0.        , 0.        ,\n",
       "        0.        ],\n",
       "       [0.47434165, 1.        , 0.59628479, ..., 0.        , 0.        ,\n",
       "        0.        ],\n",
       "       [0.47140452, 0.59628479, 1.        , ..., 0.        , 0.        ,\n",
       "        0.        ],\n",
       "       ...,\n",
       "       [0.        , 0.        , 0.        , ..., 1.        , 0.27216553,\n",
       "        0.23570226],\n",
       "       [0.        , 0.        , 0.        , ..., 0.27216553, 1.        ,\n",
       "        0.8660254 ],\n",
       "       [0.        , 0.        , 0.        , ..., 0.23570226, 0.8660254 ,\n",
       "        1.        ]])"
      ]
     },
     "execution_count": 42,
     "metadata": {},
     "output_type": "execute_result"
    }
   ],
   "source": [
    "cosine_sim"
   ]
  },
  {
   "cell_type": "code",
   "execution_count": 45,
   "metadata": {},
   "outputs": [],
   "source": [
    "# creating a Series for the product names so they are associated to an ordered numerical\n",
    "# list to be used in the function to match the indexes\n",
    "indices = pd.Series(features.index)\n",
    "\n",
    "#  defining the function that takes in product name \n",
    "# as input and returns the top 10 recommended products\n",
    "def recommendations(name, cosine_sim = cosine_sim):\n",
    "    \n",
    "    # initializing the empty list of recommended products\n",
    "    recommended_products = []\n",
    "    \n",
    "    # gettin the index of the product that matches the name\n",
    "    idx = indices[indices == name].index[0]\n",
    "\n",
    "    # creating a Series with the similarity scores in descending order\n",
    "    score_series = pd.Series(cosine_sim[idx]).sort_values(ascending = False)\n",
    "\n",
    "    # getting the indexes of the 10 most similar products\n",
    "    top_10_indexes = list(score_series.iloc[1:11].index)\n",
    "    \n",
    "    # populating the list with the titles of the best 10 matching products\n",
    "    for i in top_10_indexes:\n",
    "        recommended_products.append(list(features.index)[i])\n",
    "        \n",
    "    return recommended_products"
   ]
  },
  {
   "cell_type": "markdown",
   "metadata": {},
   "source": [
    "## Testing the model"
   ]
  },
  {
   "cell_type": "code",
   "execution_count": 48,
   "metadata": {},
   "outputs": [
    {
     "data": {
      "text/plain": [
       "['GENIUS Ultimate Anti-Aging Vitamin C+ Serum',\n",
       " 'Anti-Aging Primer',\n",
       " 'Lifting Primer Anti-Aging Serum',\n",
       " 'Premier Cru Anti-Aging Serum',\n",
       " 'Advanced Anti-Aging Repairing Oil',\n",
       " 'Rejuvenating Anti-Aging Serum',\n",
       " 'PERFECT Clarifying Pore Corrector Mask',\n",
       " 'Plantscription™ Anti-Aging Power Serum',\n",
       " 'Gel Primer',\n",
       " 'CARAT FACE']"
      ]
     },
     "execution_count": 48,
     "metadata": {},
     "output_type": "execute_result"
    }
   ],
   "source": [
    "recommendations('Pore Corrector Anti-Aging Primer')"
   ]
  },
  {
   "cell_type": "code",
   "execution_count": 52,
   "metadata": {},
   "outputs": [
    {
     "data": {
      "text/plain": [
       "['Grapefruit Candle',\n",
       " 'Orange Blossom Candle',\n",
       " 'Red Roses Candle',\n",
       " 'Honeysuckle & Davana Home Candle',\n",
       " 'Peony & Blush Suede Candle',\n",
       " 'English Pear & Freesia Candle',\n",
       " 'Red Roses Travel Candle',\n",
       " 'English Oak & Redcurrant Candle',\n",
       " 'Blackberry & Bay Travel Candle',\n",
       " 'Nectarine Blossom & Honey\\xa0Candle']"
      ]
     },
     "execution_count": 52,
     "metadata": {},
     "output_type": "execute_result"
    }
   ],
   "source": [
    "recommendations('Mimosa & Cardamom Candle')"
   ]
  },
  {
   "cell_type": "code",
   "execution_count": null,
   "metadata": {},
   "outputs": [],
   "source": []
  }
 ],
 "metadata": {
  "kernelspec": {
   "display_name": "Python 3",
   "language": "python",
   "name": "python3"
  },
  "language_info": {
   "codemirror_mode": {
    "name": "ipython",
    "version": 3
   },
   "file_extension": ".py",
   "mimetype": "text/x-python",
   "name": "python",
   "nbconvert_exporter": "python",
   "pygments_lexer": "ipython3",
   "version": "3.7.6"
  }
 },
 "nbformat": 4,
 "nbformat_minor": 4
}
